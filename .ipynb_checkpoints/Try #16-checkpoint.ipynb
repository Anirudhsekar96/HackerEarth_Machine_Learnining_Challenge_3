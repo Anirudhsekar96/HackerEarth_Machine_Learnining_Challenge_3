{
 "cells": [
  {
   "cell_type": "code",
   "execution_count": 5,
   "metadata": {},
   "outputs": [
    {
     "name": "stderr",
     "output_type": "stream",
     "text": [
      "Using TensorFlow backend.\n"
     ]
    }
   ],
   "source": [
    "import numpy as np\n",
    "import pandas as pd\n",
    "\n",
    "from keras.models import Sequential\n",
    "from keras.layers import Dense\n",
    "from keras.utils import to_categorical\n",
    "from keras.callbacks import EarlyStopping\n",
    "\n",
    "from sklearn.model_selection import train_test_split\n",
    "from sklearn.preprocessing import StandardScaler"
   ]
  },
  {
   "cell_type": "code",
   "execution_count": 6,
   "metadata": {
    "collapsed": true
   },
   "outputs": [],
   "source": [
    "train = pd.read_csv('DATASET/train.csv')\n",
    "test = pd.read_csv('DATASET/test.csv')"
   ]
  },
  {
   "cell_type": "code",
   "execution_count": 7,
   "metadata": {},
   "outputs": [
    {
     "name": "stdout",
     "output_type": "stream",
     "text": [
      "The train data has 12137810 rows and 10 columns\n",
      "The test data has 3706907 rows and 9 columns\n"
     ]
    }
   ],
   "source": [
    "print ('The train data has {} rows and {} columns'.format(train.shape[0],train.shape[1]))\n",
    "print ('The test data has {} rows and {} columns'.format(test.shape[0],test.shape[1]))"
   ]
  },
  {
   "cell_type": "code",
   "execution_count": 8,
   "metadata": {},
   "outputs": [
    {
     "data": {
      "text/html": [
       "<div>\n",
       "<style>\n",
       "    .dataframe thead tr:only-child th {\n",
       "        text-align: right;\n",
       "    }\n",
       "\n",
       "    .dataframe thead th {\n",
       "        text-align: left;\n",
       "    }\n",
       "\n",
       "    .dataframe tbody tr th {\n",
       "        vertical-align: top;\n",
       "    }\n",
       "</style>\n",
       "<table border=\"1\" class=\"dataframe\">\n",
       "  <thead>\n",
       "    <tr style=\"text-align: right;\">\n",
       "      <th></th>\n",
       "      <th>ID</th>\n",
       "      <th>datetime</th>\n",
       "      <th>siteid</th>\n",
       "      <th>offerid</th>\n",
       "      <th>category</th>\n",
       "      <th>merchant</th>\n",
       "      <th>countrycode</th>\n",
       "      <th>browserid</th>\n",
       "      <th>devid</th>\n",
       "      <th>click</th>\n",
       "    </tr>\n",
       "  </thead>\n",
       "  <tbody>\n",
       "    <tr>\n",
       "      <th>0</th>\n",
       "      <td>IDsrk7SoW</td>\n",
       "      <td>2017-01-14 09:42:09</td>\n",
       "      <td>4709696.0</td>\n",
       "      <td>887235</td>\n",
       "      <td>17714</td>\n",
       "      <td>20301556</td>\n",
       "      <td>e</td>\n",
       "      <td>Firefox</td>\n",
       "      <td>NaN</td>\n",
       "      <td>0</td>\n",
       "    </tr>\n",
       "    <tr>\n",
       "      <th>1</th>\n",
       "      <td>IDmMSxHur</td>\n",
       "      <td>2017-01-18 17:50:53</td>\n",
       "      <td>5189467.0</td>\n",
       "      <td>178235</td>\n",
       "      <td>21407</td>\n",
       "      <td>9434818</td>\n",
       "      <td>b</td>\n",
       "      <td>Mozilla Firefox</td>\n",
       "      <td>Desktop</td>\n",
       "      <td>0</td>\n",
       "    </tr>\n",
       "    <tr>\n",
       "      <th>2</th>\n",
       "      <td>IDVLNN0Ut</td>\n",
       "      <td>2017-01-11 12:46:49</td>\n",
       "      <td>98480.0</td>\n",
       "      <td>518539</td>\n",
       "      <td>25085</td>\n",
       "      <td>2050923</td>\n",
       "      <td>a</td>\n",
       "      <td>Edge</td>\n",
       "      <td>NaN</td>\n",
       "      <td>0</td>\n",
       "    </tr>\n",
       "    <tr>\n",
       "      <th>3</th>\n",
       "      <td>ID32T6wwQ</td>\n",
       "      <td>2017-01-17 10:18:43</td>\n",
       "      <td>8896401.0</td>\n",
       "      <td>390352</td>\n",
       "      <td>40339</td>\n",
       "      <td>72089744</td>\n",
       "      <td>c</td>\n",
       "      <td>Firefox</td>\n",
       "      <td>Mobile</td>\n",
       "      <td>0</td>\n",
       "    </tr>\n",
       "    <tr>\n",
       "      <th>4</th>\n",
       "      <td>IDqUShzMg</td>\n",
       "      <td>2017-01-14 16:02:33</td>\n",
       "      <td>5635120.0</td>\n",
       "      <td>472937</td>\n",
       "      <td>12052</td>\n",
       "      <td>39507200</td>\n",
       "      <td>d</td>\n",
       "      <td>Mozilla Firefox</td>\n",
       "      <td>Desktop</td>\n",
       "      <td>0</td>\n",
       "    </tr>\n",
       "  </tbody>\n",
       "</table>\n",
       "</div>"
      ],
      "text/plain": [
       "          ID             datetime     siteid  offerid  category  merchant  \\\n",
       "0  IDsrk7SoW  2017-01-14 09:42:09  4709696.0   887235     17714  20301556   \n",
       "1  IDmMSxHur  2017-01-18 17:50:53  5189467.0   178235     21407   9434818   \n",
       "2  IDVLNN0Ut  2017-01-11 12:46:49    98480.0   518539     25085   2050923   \n",
       "3  ID32T6wwQ  2017-01-17 10:18:43  8896401.0   390352     40339  72089744   \n",
       "4  IDqUShzMg  2017-01-14 16:02:33  5635120.0   472937     12052  39507200   \n",
       "\n",
       "  countrycode        browserid    devid  click  \n",
       "0           e          Firefox      NaN      0  \n",
       "1           b  Mozilla Firefox  Desktop      0  \n",
       "2           a             Edge      NaN      0  \n",
       "3           c          Firefox   Mobile      0  \n",
       "4           d  Mozilla Firefox  Desktop      0  "
      ]
     },
     "execution_count": 8,
     "metadata": {},
     "output_type": "execute_result"
    }
   ],
   "source": [
    "train.head()"
   ]
  },
  {
   "cell_type": "code",
   "execution_count": 9,
   "metadata": {
    "collapsed": true
   },
   "outputs": [],
   "source": [
    "# imputing missing values\n",
    "train['siteid'].fillna(-999, inplace=True)\n",
    "test['siteid'].fillna(-999, inplace=True)\n",
    "\n",
    "train['browserid'].fillna(\"None\",inplace=True)\n",
    "test['browserid'].fillna(\"None\", inplace=True)\n",
    "\n",
    "train['devid'].fillna(\"None\",inplace=True)\n",
    "test['devid'].fillna(\"None\",inplace=True)"
   ]
  },
  {
   "cell_type": "code",
   "execution_count": 16,
   "metadata": {},
   "outputs": [],
   "source": [
    "#from sklearn.preprocessing import OneHotEncoder\n",
    "#enc = OneHotEncoder()\n",
    "#enc.fit\n",
    "train = pd.get_dummies(train,columns=['browserid','devid','countrycode'])\n",
    "test = pd.get_dummies(test,columns=['browserid','devid','countrycode'])"
   ]
  },
  {
   "cell_type": "code",
   "execution_count": 17,
   "metadata": {},
   "outputs": [
    {
     "name": "stdout",
     "output_type": "stream",
     "text": [
      "<class 'pandas.core.frame.DataFrame'>\n",
      "RangeIndex: 12137810 entries, 0 to 12137809\n",
      "Data columns (total 29 columns):\n",
      "ID                             object\n",
      "datetime                       object\n",
      "siteid                         float64\n",
      "offerid                        int64\n",
      "category                       int64\n",
      "merchant                       int64\n",
      "click                          int64\n",
      "browserid_Chrome               uint8\n",
      "browserid_Edge                 uint8\n",
      "browserid_Firefox              uint8\n",
      "browserid_Google Chrome        uint8\n",
      "browserid_IE                   uint8\n",
      "browserid_Internet Explorer    uint8\n",
      "browserid_InternetExplorer     uint8\n",
      "browserid_Mozilla              uint8\n",
      "browserid_Mozilla Firefox      uint8\n",
      "browserid_None                 uint8\n",
      "browserid_Opera                uint8\n",
      "browserid_Safari               uint8\n",
      "devid_Desktop                  uint8\n",
      "devid_Mobile                   uint8\n",
      "devid_None                     uint8\n",
      "devid_Tablet                   uint8\n",
      "countrycode_a                  uint8\n",
      "countrycode_b                  uint8\n",
      "countrycode_c                  uint8\n",
      "countrycode_d                  uint8\n",
      "countrycode_e                  uint8\n",
      "countrycode_f                  uint8\n",
      "dtypes: float64(1), int64(4), object(2), uint8(22)\n",
      "memory usage: 902.9+ MB\n"
     ]
    }
   ],
   "source": [
    "train.info()"
   ]
  },
  {
   "cell_type": "code",
   "execution_count": 18,
   "metadata": {},
   "outputs": [
    {
     "name": "stdout",
     "output_type": "stream",
     "text": [
      "<class 'pandas.core.frame.DataFrame'>\n",
      "RangeIndex: 3706907 entries, 0 to 3706906\n",
      "Data columns (total 28 columns):\n",
      "ID                             object\n",
      "datetime                       object\n",
      "siteid                         float64\n",
      "offerid                        int64\n",
      "category                       int64\n",
      "merchant                       int64\n",
      "browserid_Chrome               uint8\n",
      "browserid_Edge                 uint8\n",
      "browserid_Firefox              uint8\n",
      "browserid_Google Chrome        uint8\n",
      "browserid_IE                   uint8\n",
      "browserid_Internet Explorer    uint8\n",
      "browserid_InternetExplorer     uint8\n",
      "browserid_Mozilla              uint8\n",
      "browserid_Mozilla Firefox      uint8\n",
      "browserid_None                 uint8\n",
      "browserid_Opera                uint8\n",
      "browserid_Safari               uint8\n",
      "devid_Desktop                  uint8\n",
      "devid_Mobile                   uint8\n",
      "devid_None                     uint8\n",
      "devid_Tablet                   uint8\n",
      "countrycode_a                  uint8\n",
      "countrycode_b                  uint8\n",
      "countrycode_c                  uint8\n",
      "countrycode_d                  uint8\n",
      "countrycode_e                  uint8\n",
      "countrycode_f                  uint8\n",
      "dtypes: float64(1), int64(3), object(2), uint8(22)\n",
      "memory usage: 247.5+ MB\n"
     ]
    }
   ],
   "source": [
    "test.info()"
   ]
  },
  {
   "cell_type": "code",
   "execution_count": null,
   "metadata": {
    "collapsed": true
   },
   "outputs": [],
   "source": []
  },
  {
   "cell_type": "code",
   "execution_count": null,
   "metadata": {},
   "outputs": [],
   "source": []
  },
  {
   "cell_type": "code",
   "execution_count": 20,
   "metadata": {
    "collapsed": true
   },
   "outputs": [],
   "source": [
    "\n",
    "# create timebased features\n",
    "\n",
    "train['datetime'] = pd.to_datetime(train['datetime'])\n",
    "test['datetime'] = pd.to_datetime(test['datetime'])\n",
    "\n",
    "#train['tweekday'] = train['datetime'].dt.weekday\n",
    "#test['tweekday'] = test['datetime'].dt.weekday\n",
    "\n",
    "train['tyear'] = train['datetime'].dt.year\n",
    "test['tyear'] = test['datetime'].dt.year\n",
    "\n",
    "train['month'] = train['datetime'].dt.month\n",
    "test['month'] = test['datetime'].dt.month\n",
    "\n",
    "#train['tday'] = train['datetime'].dt.day\n",
    "#test['tday'] = test['datetime'].dt.day\n",
    "\n",
    "train['thour'] = train['datetime'].dt.hour\n",
    "test['thour'] = test['datetime'].dt.hour\n",
    "\n",
    "train['tminute'] = train['datetime'].dt.minute\n",
    "test['tminute'] = test['datetime'].dt.minute"
   ]
  },
  {
   "cell_type": "code",
   "execution_count": 21,
   "metadata": {
    "collapsed": true
   },
   "outputs": [],
   "source": [
    "# create aggregate features\n",
    "site_offer_count = train.groupby(['siteid','offerid']).size().reset_index()\n",
    "site_offer_count.columns = ['siteid','offerid','site_offer_count']\n",
    "\n",
    "site_offer_count_test = test.groupby(['siteid','offerid']).size().reset_index()\n",
    "site_offer_count_test.columns = ['siteid','offerid','site_offer_count']\n",
    "\n",
    "site_cat_count = train.groupby(['siteid','category']).size().reset_index()\n",
    "site_cat_count.columns = ['siteid','category','site_cat_count']\n",
    "\n",
    "site_cat_count_test = test.groupby(['siteid','category']).size().reset_index()\n",
    "site_cat_count_test.columns = ['siteid','category','site_cat_count']\n",
    "\n",
    "site_mcht_count = train.groupby(['siteid','merchant']).size().reset_index()\n",
    "site_mcht_count.columns = ['siteid','merchant','site_mcht_count']\n",
    "\n",
    "site_mcht_count_test = test.groupby(['siteid','merchant']).size().reset_index()\n",
    "site_mcht_count_test.columns = ['siteid','merchant','site_mcht_count']"
   ]
  },
  {
   "cell_type": "code",
   "execution_count": 22,
   "metadata": {
    "collapsed": true
   },
   "outputs": [],
   "source": [
    "\n",
    "# joining all files\n",
    "agg_df = [site_offer_count,site_cat_count,site_mcht_count]\n",
    "agg_df_test = [site_offer_count_test,site_cat_count_test,site_mcht_count_test]\n",
    "\n",
    "for x in agg_df:\n",
    "    train = train.merge(x)\n",
    "    \n",
    "for x in agg_df_test:\n",
    "    test = test.merge(x)"
   ]
  },
  {
   "cell_type": "code",
   "execution_count": 23,
   "metadata": {
    "collapsed": true
   },
   "outputs": [],
   "source": [
    "\n",
    "# Label Encoding\n",
    "from sklearn.preprocessing import LabelEncoder\n",
    "for c in list(train.select_dtypes(include=['object']).columns):\n",
    "    if c != 'ID':\n",
    "        lbl = LabelEncoder()\n",
    "        lbl.fit(list(train[c].values) + list(test[c].values))\n",
    "        train[c] = lbl.transform(list(train[c].values))\n",
    "        test[c] = lbl.transform(list(test[c].values))"
   ]
  },
  {
   "cell_type": "code",
   "execution_count": 24,
   "metadata": {},
   "outputs": [
    {
     "name": "stdout",
     "output_type": "stream",
     "text": [
      "(12137810, 36)\n"
     ]
    }
   ],
   "source": [
    "\n",
    "# sample 10% data - to avoid memory troubles\n",
    "# if you have access to large machines, you can use more data for training\n",
    "\n",
    "#train = train.sample()\n",
    "print (train.shape)"
   ]
  },
  {
   "cell_type": "code",
   "execution_count": 25,
   "metadata": {
    "collapsed": true
   },
   "outputs": [],
   "source": [
    "# select columns to choose\n",
    "cols_to_use = [x for x in train.columns if x not in list(['ID','datetime','click'])]"
   ]
  },
  {
   "cell_type": "code",
   "execution_count": 26,
   "metadata": {
    "collapsed": true
   },
   "outputs": [],
   "source": [
    "\n",
    "# standarise data before training\n",
    "scaler = StandardScaler().fit(train[cols_to_use])\n",
    "\n",
    "strain = scaler.transform(train[cols_to_use])\n",
    "stest = scaler.transform(test[cols_to_use])"
   ]
  },
  {
   "cell_type": "code",
   "execution_count": 27,
   "metadata": {
    "collapsed": true
   },
   "outputs": [],
   "source": [
    "# train validation split\n",
    "X_train, X_valid, Y_train, Y_valid = train_test_split(strain, train.click, test_size = 0.3, random_state=2017)"
   ]
  },
  {
   "cell_type": "code",
   "execution_count": 28,
   "metadata": {},
   "outputs": [
    {
     "name": "stdout",
     "output_type": "stream",
     "text": [
      "(8496467, 33)\n",
      "(3641343, 33)\n",
      "(8496467,)\n",
      "(3641343,)\n"
     ]
    }
   ],
   "source": [
    "print (X_train.shape)\n",
    "print (X_valid.shape)\n",
    "print (Y_train.shape)\n",
    "print (Y_valid.shape)"
   ]
  },
  {
   "cell_type": "code",
   "execution_count": 30,
   "metadata": {
    "collapsed": true
   },
   "outputs": [],
   "source": [
    "# model architechture\n",
    "def keras_model(train):\n",
    "    \n",
    "    input_dim = train.shape[1]\n",
    "    classes = 2\n",
    "    \n",
    "    model = Sequential()\n",
    "    model.add(Dense(100, activation = 'relu', input_shape = (input_dim,)))\n",
    "    model.add(Dense(30, activation = 'relu'))\n",
    "    model.add(Dense(classes, activation = 'softmax'))\n",
    "    model.compile(optimizer = 'adam', loss='binary_crossentropy',metrics = ['accuracy','binary_accuracy'])\n",
    "    return model\n",
    "\n",
    "callback = EarlyStopping(monitor='val_acc',patience=10)"
   ]
  },
  {
   "cell_type": "code",
   "execution_count": 31,
   "metadata": {
    "collapsed": true
   },
   "outputs": [],
   "source": [
    "# one hot target columns\n",
    "Y_train = to_categorical(Y_train)\n",
    "Y_valid = to_categorical(Y_valid)"
   ]
  },
  {
   "cell_type": "code",
   "execution_count": 32,
   "metadata": {},
   "outputs": [
    {
     "name": "stdout",
     "output_type": "stream",
     "text": [
      "Train on 8496467 samples, validate on 3641343 samples\n",
      "Epoch 1/100\n",
      "8496467/8496467 [==============================] - 18s - loss: 0.0665 - acc: 0.9773 - val_loss: 0.0641 - val_acc: 0.9778\n",
      "Epoch 2/100\n",
      "8496467/8496467 [==============================] - 17s - loss: 0.0640 - acc: 0.9778 - val_loss: 0.0637 - val_acc: 0.9780\n",
      "Epoch 3/100\n",
      "8496467/8496467 [==============================] - 17s - loss: 0.0632 - acc: 0.9781 - val_loss: 0.0626 - val_acc: 0.9783\n",
      "Epoch 4/100\n",
      "8496467/8496467 [==============================] - 17s - loss: 0.0617 - acc: 0.9787 - val_loss: 0.0611 - val_acc: 0.9790\n",
      "Epoch 5/100\n",
      "8496467/8496467 [==============================] - 17s - loss: 0.0605 - acc: 0.9792 - val_loss: 0.0600 - val_acc: 0.9797\n",
      "Epoch 6/100\n",
      "8496467/8496467 [==============================] - 17s - loss: 0.0596 - acc: 0.9796 - val_loss: 0.0596 - val_acc: 0.9796\n",
      "Epoch 7/100\n",
      "8496467/8496467 [==============================] - 17s - loss: 0.0588 - acc: 0.9799 - val_loss: 0.0585 - val_acc: 0.9801\n",
      "Epoch 8/100\n",
      "8496467/8496467 [==============================] - 19s - loss: 0.0580 - acc: 0.9801 - val_loss: 0.0581 - val_acc: 0.9804\n",
      "Epoch 9/100\n",
      "8496467/8496467 [==============================] - 17s - loss: 0.0575 - acc: 0.9802 - val_loss: 0.0575 - val_acc: 0.9805\n",
      "Epoch 10/100\n",
      "8496467/8496467 [==============================] - 17s - loss: 0.0571 - acc: 0.9804 - val_loss: 0.0568 - val_acc: 0.9806\n",
      "Epoch 11/100\n",
      "8496467/8496467 [==============================] - 17s - loss: 0.0567 - acc: 0.9804 - val_loss: 0.0578 - val_acc: 0.9804\n",
      "Epoch 12/100\n",
      "8496467/8496467 [==============================] - 17s - loss: 0.0564 - acc: 0.9805 - val_loss: 0.0564 - val_acc: 0.9806\n",
      "Epoch 13/100\n",
      "8496467/8496467 [==============================] - 17s - loss: 0.0561 - acc: 0.9806 - val_loss: 0.0560 - val_acc: 0.9807\n",
      "Epoch 14/100\n",
      "8496467/8496467 [==============================] - 17s - loss: 0.0559 - acc: 0.9807 - val_loss: 0.0569 - val_acc: 0.9805\n",
      "Epoch 15/100\n",
      "8496467/8496467 [==============================] - 17s - loss: 0.0558 - acc: 0.9807 - val_loss: 0.0556 - val_acc: 0.9808\n",
      "Epoch 16/100\n",
      "8496467/8496467 [==============================] - 16s - loss: 0.0556 - acc: 0.9807 - val_loss: 0.0555 - val_acc: 0.9809\n",
      "Epoch 17/100\n",
      "8496467/8496467 [==============================] - 17s - loss: 0.0555 - acc: 0.9808 - val_loss: 0.0562 - val_acc: 0.9807\n",
      "Epoch 18/100\n",
      "8496467/8496467 [==============================] - 16s - loss: 0.0553 - acc: 0.9808 - val_loss: 0.0571 - val_acc: 0.9807\n",
      "Epoch 19/100\n",
      "8496467/8496467 [==============================] - 16s - loss: 0.0552 - acc: 0.9809 - val_loss: 0.0549 - val_acc: 0.9810\n",
      "Epoch 20/100\n",
      "8496467/8496467 [==============================] - 16s - loss: 0.0551 - acc: 0.9809 - val_loss: 0.0554 - val_acc: 0.9811\n",
      "Epoch 21/100\n",
      "8496467/8496467 [==============================] - 18s - loss: 0.0550 - acc: 0.9809 - val_loss: 0.0576 - val_acc: 0.9803\n",
      "Epoch 22/100\n",
      "8496467/8496467 [==============================] - 17s - loss: 0.0549 - acc: 0.9810 - val_loss: 0.0547 - val_acc: 0.9811\n",
      "Epoch 23/100\n",
      "8496467/8496467 [==============================] - 19s - loss: 0.0548 - acc: 0.9810 - val_loss: 0.0552 - val_acc: 0.9809\n",
      "Epoch 24/100\n",
      "8496467/8496467 [==============================] - 18s - loss: 0.0547 - acc: 0.9810 - val_loss: 0.0551 - val_acc: 0.9811\n",
      "Epoch 25/100\n",
      "8496467/8496467 [==============================] - 18s - loss: 0.0547 - acc: 0.9810 - val_loss: 0.0554 - val_acc: 0.9808\n",
      "Epoch 26/100\n",
      "8496467/8496467 [==============================] - 17s - loss: 0.0546 - acc: 0.9811 - val_loss: 0.0548 - val_acc: 0.9810\n",
      "Epoch 27/100\n",
      "8496467/8496467 [==============================] - 17s - loss: 0.0545 - acc: 0.9811 - val_loss: 0.0551 - val_acc: 0.9810\n",
      "Epoch 28/100\n",
      "8496467/8496467 [==============================] - 17s - loss: 0.0544 - acc: 0.9811 - val_loss: 0.0548 - val_acc: 0.9811\n",
      "Epoch 29/100\n",
      "8496467/8496467 [==============================] - 16s - loss: 0.0543 - acc: 0.9811 - val_loss: 0.0546 - val_acc: 0.9811\n",
      "Epoch 30/100\n",
      "8496467/8496467 [==============================] - 16s - loss: 0.0542 - acc: 0.9812 - val_loss: 0.0547 - val_acc: 0.9812\n",
      "Epoch 31/100\n",
      "8496467/8496467 [==============================] - 18s - loss: 0.0541 - acc: 0.9812 - val_loss: 0.0550 - val_acc: 0.9811\n",
      "Epoch 32/100\n",
      "8496467/8496467 [==============================] - 18s - loss: 0.0541 - acc: 0.9812 - val_loss: 0.0542 - val_acc: 0.9812\n",
      "Epoch 33/100\n",
      "8496467/8496467 [==============================] - 18s - loss: 0.0540 - acc: 0.9812 - val_loss: 0.0546 - val_acc: 0.9812\n",
      "Epoch 34/100\n",
      "8496467/8496467 [==============================] - 18s - loss: 0.0540 - acc: 0.9812 - val_loss: 0.0544 - val_acc: 0.9813\n",
      "Epoch 35/100\n",
      "8496467/8496467 [==============================] - 17s - loss: 0.0539 - acc: 0.9813 - val_loss: 0.0544 - val_acc: 0.9813\n",
      "Epoch 36/100\n",
      "8496467/8496467 [==============================] - 17s - loss: 0.0538 - acc: 0.9813 - val_loss: 0.0544 - val_acc: 0.9812\n",
      "Epoch 37/100\n",
      "8496467/8496467 [==============================] - 18s - loss: 0.0538 - acc: 0.9813 - val_loss: 0.0540 - val_acc: 0.9813\n",
      "Epoch 38/100\n",
      "8496467/8496467 [==============================] - 17s - loss: 0.0537 - acc: 0.9813 - val_loss: 0.0541 - val_acc: 0.9812\n",
      "Epoch 39/100\n",
      "8496467/8496467 [==============================] - 18s - loss: 0.0537 - acc: 0.9813 - val_loss: 0.0543 - val_acc: 0.9813\n",
      "Epoch 40/100\n",
      "8496467/8496467 [==============================] - 18s - loss: 0.0537 - acc: 0.9813 - val_loss: 0.0542 - val_acc: 0.9812\n",
      "Epoch 41/100\n",
      "8496467/8496467 [==============================] - 18s - loss: 0.0536 - acc: 0.9814 - val_loss: 0.0534 - val_acc: 0.9814\n",
      "Epoch 42/100\n",
      "8496467/8496467 [==============================] - 18s - loss: 0.0535 - acc: 0.9814 - val_loss: 0.0542 - val_acc: 0.9815\n",
      "Epoch 43/100\n",
      "8496467/8496467 [==============================] - 18s - loss: 0.0534 - acc: 0.9814 - val_loss: 0.0538 - val_acc: 0.9813\n",
      "Epoch 44/100\n",
      "8496467/8496467 [==============================] - 17s - loss: 0.0535 - acc: 0.9814 - val_loss: 0.0540 - val_acc: 0.9812\n",
      "Epoch 45/100\n",
      "8496467/8496467 [==============================] - 17s - loss: 0.0534 - acc: 0.9814 - val_loss: 0.0536 - val_acc: 0.9816\n",
      "Epoch 46/100\n",
      "8496467/8496467 [==============================] - 16s - loss: 0.0533 - acc: 0.9814 - val_loss: 0.0544 - val_acc: 0.9811\n",
      "Epoch 47/100\n",
      "8496467/8496467 [==============================] - 18s - loss: 0.0533 - acc: 0.9814 - val_loss: 0.0538 - val_acc: 0.9815\n",
      "Epoch 48/100\n",
      "8496467/8496467 [==============================] - 18s - loss: 0.0532 - acc: 0.9815 - val_loss: 0.0534 - val_acc: 0.9814\n",
      "Epoch 49/100\n",
      "8496467/8496467 [==============================] - 18s - loss: 0.0533 - acc: 0.9814 - val_loss: 0.0535 - val_acc: 0.9816\n",
      "Epoch 50/100\n",
      "8496467/8496467 [==============================] - 18s - loss: 0.0531 - acc: 0.9815 - val_loss: 0.0540 - val_acc: 0.9815\n",
      "Epoch 51/100\n",
      "8496467/8496467 [==============================] - 18s - loss: 0.0532 - acc: 0.9815 - val_loss: 0.0536 - val_acc: 0.9814\n",
      "Epoch 52/100\n",
      "8496467/8496467 [==============================] - 18s - loss: 0.0531 - acc: 0.9815 - val_loss: 0.0540 - val_acc: 0.9813\n",
      "Epoch 53/100\n",
      "8496467/8496467 [==============================] - 18s - loss: 0.0530 - acc: 0.9815 - val_loss: 0.0526 - val_acc: 0.9817\n",
      "Epoch 54/100\n",
      "8496467/8496467 [==============================] - 18s - loss: 0.0530 - acc: 0.9815 - val_loss: 0.0531 - val_acc: 0.9814\n",
      "Epoch 55/100\n",
      "8496467/8496467 [==============================] - 18s - loss: 0.0530 - acc: 0.9815 - val_loss: 0.0544 - val_acc: 0.9811\n",
      "Epoch 56/100\n",
      "8496467/8496467 [==============================] - 18s - loss: 0.0529 - acc: 0.9816 - val_loss: 0.0535 - val_acc: 0.9816\n",
      "Epoch 57/100\n",
      "8496467/8496467 [==============================] - 18s - loss: 0.0529 - acc: 0.9815 - val_loss: 0.0574 - val_acc: 0.9790\n",
      "Epoch 58/100\n",
      "8496467/8496467 [==============================] - 18s - loss: 0.0529 - acc: 0.9816 - val_loss: 0.0535 - val_acc: 0.9815\n",
      "Epoch 59/100\n",
      "8496467/8496467 [==============================] - 18s - loss: 0.0529 - acc: 0.9815 - val_loss: 0.0539 - val_acc: 0.9814\n",
      "Epoch 60/100\n",
      "8496467/8496467 [==============================] - 17s - loss: 0.0528 - acc: 0.9816 - val_loss: 0.0531 - val_acc: 0.9815\n",
      "Epoch 61/100\n"
     ]
    },
    {
     "name": "stdout",
     "output_type": "stream",
     "text": [
      "8496467/8496467 [==============================] - 16s - loss: 0.0528 - acc: 0.9816 - val_loss: 0.0538 - val_acc: 0.9814\n",
      "Epoch 62/100\n",
      "8496467/8496467 [==============================] - 16s - loss: 0.0527 - acc: 0.9816 - val_loss: 0.0535 - val_acc: 0.9815\n",
      "Epoch 63/100\n",
      "8496467/8496467 [==============================] - 16s - loss: 0.0527 - acc: 0.9816 - val_loss: 0.0534 - val_acc: 0.9818\n",
      "Epoch 64/100\n",
      "8496467/8496467 [==============================] - 16s - loss: 0.0527 - acc: 0.9816 - val_loss: 0.0534 - val_acc: 0.9815\n",
      "Epoch 65/100\n",
      "8496467/8496467 [==============================] - 18s - loss: 0.0526 - acc: 0.9816 - val_loss: 0.0530 - val_acc: 0.9817\n",
      "Epoch 66/100\n",
      "8496467/8496467 [==============================] - 18s - loss: 0.0526 - acc: 0.9817 - val_loss: 0.0550 - val_acc: 0.9810\n",
      "Epoch 67/100\n",
      "8496467/8496467 [==============================] - 18s - loss: 0.0526 - acc: 0.9816 - val_loss: 0.0527 - val_acc: 0.9817\n",
      "Epoch 68/100\n",
      "8496467/8496467 [==============================] - 17s - loss: 0.0525 - acc: 0.9817 - val_loss: 0.0538 - val_acc: 0.9814\n",
      "Epoch 69/100\n",
      "8496467/8496467 [==============================] - 18s - loss: 0.0525 - acc: 0.9817 - val_loss: 0.0528 - val_acc: 0.9817\n",
      "Epoch 70/100\n",
      "8496467/8496467 [==============================] - 18s - loss: 0.0525 - acc: 0.9816 - val_loss: 0.0549 - val_acc: 0.9809\n",
      "Epoch 71/100\n",
      "8496467/8496467 [==============================] - 18s - loss: 0.0524 - acc: 0.9817 - val_loss: 0.0525 - val_acc: 0.9817\n",
      "Epoch 72/100\n",
      "8496467/8496467 [==============================] - 18s - loss: 0.0525 - acc: 0.9817 - val_loss: 0.0525 - val_acc: 0.9817\n",
      "Epoch 73/100\n",
      "8496467/8496467 [==============================] - 18s - loss: 0.0524 - acc: 0.9817 - val_loss: 0.0524 - val_acc: 0.9818\n",
      "Epoch 74/100\n",
      "8496467/8496467 [==============================] - 17s - loss: 0.0523 - acc: 0.9817 - val_loss: 0.0528 - val_acc: 0.9815\n",
      "Epoch 75/100\n",
      "8496467/8496467 [==============================] - 17s - loss: 0.0524 - acc: 0.9817 - val_loss: 0.0539 - val_acc: 0.9814\n",
      "Epoch 76/100\n",
      "8496467/8496467 [==============================] - 17s - loss: 0.0523 - acc: 0.9817 - val_loss: 0.0534 - val_acc: 0.9816\n",
      "Epoch 77/100\n",
      "8496467/8496467 [==============================] - 18s - loss: 0.0523 - acc: 0.9817 - val_loss: 0.0529 - val_acc: 0.9817\n",
      "Epoch 78/100\n",
      "8496467/8496467 [==============================] - 18s - loss: 0.0522 - acc: 0.9817 - val_loss: 0.0524 - val_acc: 0.9818\n",
      "Epoch 79/100\n",
      "8496467/8496467 [==============================] - 18s - loss: 0.0522 - acc: 0.9817 - val_loss: 0.0522 - val_acc: 0.9817\n",
      "Epoch 80/100\n",
      "8496467/8496467 [==============================] - 18s - loss: 0.0522 - acc: 0.9817 - val_loss: 0.0531 - val_acc: 0.9817\n",
      "Epoch 81/100\n",
      "8496467/8496467 [==============================] - 18s - loss: 0.0522 - acc: 0.9818 - val_loss: 0.0531 - val_acc: 0.9817\n",
      "Epoch 82/100\n",
      "8496467/8496467 [==============================] - 18s - loss: 0.0522 - acc: 0.9818 - val_loss: 0.0526 - val_acc: 0.9818\n",
      "Epoch 83/100\n",
      "8496467/8496467 [==============================] - 18s - loss: 0.0522 - acc: 0.9817 - val_loss: 0.0530 - val_acc: 0.9818\n",
      "Epoch 84/100\n",
      "8496467/8496467 [==============================] - 18s - loss: 0.0521 - acc: 0.9818 - val_loss: 0.0531 - val_acc: 0.9816\n",
      "Epoch 85/100\n",
      "8496467/8496467 [==============================] - 18s - loss: 0.0522 - acc: 0.9818 - val_loss: 0.0533 - val_acc: 0.9817\n",
      "Epoch 86/100\n",
      "8496467/8496467 [==============================] - 18s - loss: 0.0521 - acc: 0.9818 - val_loss: 0.0534 - val_acc: 0.9814\n",
      "Epoch 87/100\n",
      "8496467/8496467 [==============================] - 18s - loss: 0.0521 - acc: 0.9818 - val_loss: 0.0529 - val_acc: 0.9817\n",
      "Epoch 88/100\n",
      "8496467/8496467 [==============================] - 18s - loss: 0.0522 - acc: 0.9818 - val_loss: 0.0523 - val_acc: 0.9818\n",
      "Epoch 89/100\n",
      "8496467/8496467 [==============================] - 17s - loss: 0.0521 - acc: 0.9818 - val_loss: 0.0529 - val_acc: 0.9816\n",
      "Epoch 90/100\n",
      "8496467/8496467 [==============================] - 17s - loss: 0.0520 - acc: 0.9818 - val_loss: 0.0528 - val_acc: 0.9815\n",
      "Epoch 91/100\n",
      "8496467/8496467 [==============================] - 17s - loss: 0.0520 - acc: 0.9818 - val_loss: 0.0527 - val_acc: 0.9817\n",
      "Epoch 92/100\n",
      "8496467/8496467 [==============================] - 17s - loss: 0.0520 - acc: 0.9818 - val_loss: 0.0531 - val_acc: 0.9815\n",
      "Epoch 93/100\n",
      "8496467/8496467 [==============================] - 17s - loss: 0.0520 - acc: 0.9818 - val_loss: 0.0534 - val_acc: 0.9815\n",
      "Epoch 94/100\n",
      "8496467/8496467 [==============================] - 18s - loss: 0.0519 - acc: 0.9818 - val_loss: 0.0527 - val_acc: 0.9819\n",
      "Epoch 95/100\n",
      "8496467/8496467 [==============================] - 18s - loss: 0.0519 - acc: 0.9818 - val_loss: 0.0527 - val_acc: 0.9818\n",
      "Epoch 96/100\n",
      "8496467/8496467 [==============================] - 17s - loss: 0.0520 - acc: 0.9818 - val_loss: 0.0522 - val_acc: 0.9819\n",
      "Epoch 97/100\n",
      "8496467/8496467 [==============================] - 18s - loss: 0.0519 - acc: 0.9818 - val_loss: 0.0528 - val_acc: 0.9817\n",
      "Epoch 98/100\n",
      "8496467/8496467 [==============================] - 18s - loss: 0.0519 - acc: 0.9818 - val_loss: 0.0523 - val_acc: 0.9817\n",
      "Epoch 99/100\n",
      "8496467/8496467 [==============================] - 18s - loss: 0.0519 - acc: 0.9818 - val_loss: 0.0529 - val_acc: 0.9817\n",
      "Epoch 100/100\n",
      "8496467/8496467 [==============================] - 18s - loss: 0.0518 - acc: 0.9819 - val_loss: 0.0529 - val_acc: 0.9815\n"
     ]
    },
    {
     "data": {
      "text/plain": [
       "<keras.callbacks.History at 0x7f3b6561b390>"
      ]
     },
     "execution_count": 32,
     "metadata": {},
     "output_type": "execute_result"
    }
   ],
   "source": [
    "# train model\n",
    "model = keras_model(X_train)\n",
    "model.fit(X_train, Y_train, 2000, 100, callbacks=[callback],validation_data=(X_valid, Y_valid),shuffle=True)"
   ]
  },
  {
   "cell_type": "code",
   "execution_count": 34,
   "metadata": {},
   "outputs": [],
   "source": [
    "#from keras.utils import plot_model\n",
    "#plot_model(model, to_file='model.png')"
   ]
  },
  {
   "cell_type": "code",
   "execution_count": 35,
   "metadata": {},
   "outputs": [
    {
     "name": "stdout",
     "output_type": "stream",
     "text": [
      "3640704/3641343 [============================>.] - ETA: 0s"
     ]
    },
    {
     "data": {
      "text/plain": [
       "0.97886618537929382"
      ]
     },
     "execution_count": 35,
     "metadata": {},
     "output_type": "execute_result"
    }
   ],
   "source": [
    "# check validation accuracy\n",
    "vpreds = model.predict_proba(X_valid)[:,1]\n",
    "from sklearn.metrics import roc_auc_score\n",
    "roc_auc_score(y_true = Y_valid[:,1], y_score=vpreds)"
   ]
  },
  {
   "cell_type": "code",
   "execution_count": 36,
   "metadata": {},
   "outputs": [
    {
     "name": "stdout",
     "output_type": "stream",
     "text": [
      "3706624/3706907 [============================>.] - ETA: 0s"
     ]
    }
   ],
   "source": [
    "# predict on test data\n",
    "test_preds = model.predict_proba(stest)[:,1]"
   ]
  },
  {
   "cell_type": "code",
   "execution_count": 38,
   "metadata": {
    "collapsed": true
   },
   "outputs": [],
   "source": [
    "# create submission file\n",
    "submit = pd.DataFrame({'ID':test.ID, 'click':test_preds})\n",
    "submit.to_csv('Submission/Keras_subNew6.csv', index=False)"
   ]
  },
  {
   "cell_type": "code",
   "execution_count": 39,
   "metadata": {},
   "outputs": [
    {
     "name": "stderr",
     "output_type": "stream",
     "text": [
      "/home/anirudh/anaconda/lib/python2.7/site-packages/sklearn/cross_validation.py:44: DeprecationWarning: This module was deprecated in version 0.18 in favor of the model_selection module into which all the refactored classes and functions are moved. Also note that the interface of the new CV iterators are different from that of this module. This module will be removed in 0.20.\n",
      "  \"This module will be removed in 0.20.\", DeprecationWarning)\n"
     ]
    }
   ],
   "source": [
    "from xgboost import XGBClassifier"
   ]
  },
  {
   "cell_type": "code",
   "execution_count": 40,
   "metadata": {},
   "outputs": [
    {
     "data": {
      "text/html": [
       "<div>\n",
       "<style>\n",
       "    .dataframe thead tr:only-child th {\n",
       "        text-align: right;\n",
       "    }\n",
       "\n",
       "    .dataframe thead th {\n",
       "        text-align: left;\n",
       "    }\n",
       "\n",
       "    .dataframe tbody tr th {\n",
       "        vertical-align: top;\n",
       "    }\n",
       "</style>\n",
       "<table border=\"1\" class=\"dataframe\">\n",
       "  <thead>\n",
       "    <tr style=\"text-align: right;\">\n",
       "      <th></th>\n",
       "      <th>ID</th>\n",
       "      <th>datetime</th>\n",
       "      <th>siteid</th>\n",
       "      <th>offerid</th>\n",
       "      <th>category</th>\n",
       "      <th>merchant</th>\n",
       "      <th>browserid_Chrome</th>\n",
       "      <th>browserid_Edge</th>\n",
       "      <th>browserid_Firefox</th>\n",
       "      <th>browserid_Google Chrome</th>\n",
       "      <th>...</th>\n",
       "      <th>countrycode_d</th>\n",
       "      <th>countrycode_e</th>\n",
       "      <th>countrycode_f</th>\n",
       "      <th>tyear</th>\n",
       "      <th>month</th>\n",
       "      <th>thour</th>\n",
       "      <th>tminute</th>\n",
       "      <th>site_offer_count</th>\n",
       "      <th>site_cat_count</th>\n",
       "      <th>site_mcht_count</th>\n",
       "    </tr>\n",
       "  </thead>\n",
       "  <tbody>\n",
       "    <tr>\n",
       "      <th>0</th>\n",
       "      <td>IDFDJVI</td>\n",
       "      <td>2017-01-22 09:55:48</td>\n",
       "      <td>755610.0</td>\n",
       "      <td>808980</td>\n",
       "      <td>17714</td>\n",
       "      <td>26391770</td>\n",
       "      <td>0</td>\n",
       "      <td>0</td>\n",
       "      <td>0</td>\n",
       "      <td>0</td>\n",
       "      <td>...</td>\n",
       "      <td>0</td>\n",
       "      <td>0</td>\n",
       "      <td>0</td>\n",
       "      <td>2017</td>\n",
       "      <td>1</td>\n",
       "      <td>9</td>\n",
       "      <td>55</td>\n",
       "      <td>1</td>\n",
       "      <td>16</td>\n",
       "      <td>14</td>\n",
       "    </tr>\n",
       "    <tr>\n",
       "      <th>1</th>\n",
       "      <td>IDfbJpA</td>\n",
       "      <td>2017-01-22 09:55:48</td>\n",
       "      <td>755610.0</td>\n",
       "      <td>794970</td>\n",
       "      <td>17714</td>\n",
       "      <td>26391770</td>\n",
       "      <td>0</td>\n",
       "      <td>0</td>\n",
       "      <td>0</td>\n",
       "      <td>0</td>\n",
       "      <td>...</td>\n",
       "      <td>0</td>\n",
       "      <td>0</td>\n",
       "      <td>1</td>\n",
       "      <td>2017</td>\n",
       "      <td>1</td>\n",
       "      <td>9</td>\n",
       "      <td>55</td>\n",
       "      <td>1</td>\n",
       "      <td>16</td>\n",
       "      <td>14</td>\n",
       "    </tr>\n",
       "    <tr>\n",
       "      <th>2</th>\n",
       "      <td>IDF9SUX</td>\n",
       "      <td>2017-01-22 09:55:48</td>\n",
       "      <td>755610.0</td>\n",
       "      <td>862911</td>\n",
       "      <td>17714</td>\n",
       "      <td>26391770</td>\n",
       "      <td>0</td>\n",
       "      <td>1</td>\n",
       "      <td>0</td>\n",
       "      <td>0</td>\n",
       "      <td>...</td>\n",
       "      <td>0</td>\n",
       "      <td>0</td>\n",
       "      <td>0</td>\n",
       "      <td>2017</td>\n",
       "      <td>1</td>\n",
       "      <td>9</td>\n",
       "      <td>55</td>\n",
       "      <td>1</td>\n",
       "      <td>16</td>\n",
       "      <td>14</td>\n",
       "    </tr>\n",
       "    <tr>\n",
       "      <th>3</th>\n",
       "      <td>IDwx0Vu</td>\n",
       "      <td>2017-01-22 09:55:48</td>\n",
       "      <td>755610.0</td>\n",
       "      <td>852044</td>\n",
       "      <td>17714</td>\n",
       "      <td>26391770</td>\n",
       "      <td>0</td>\n",
       "      <td>0</td>\n",
       "      <td>0</td>\n",
       "      <td>0</td>\n",
       "      <td>...</td>\n",
       "      <td>0</td>\n",
       "      <td>0</td>\n",
       "      <td>0</td>\n",
       "      <td>2017</td>\n",
       "      <td>1</td>\n",
       "      <td>9</td>\n",
       "      <td>55</td>\n",
       "      <td>1</td>\n",
       "      <td>16</td>\n",
       "      <td>14</td>\n",
       "    </tr>\n",
       "    <tr>\n",
       "      <th>4</th>\n",
       "      <td>IDwY76g</td>\n",
       "      <td>2017-01-22 09:55:48</td>\n",
       "      <td>755610.0</td>\n",
       "      <td>259313</td>\n",
       "      <td>17714</td>\n",
       "      <td>26391770</td>\n",
       "      <td>0</td>\n",
       "      <td>0</td>\n",
       "      <td>0</td>\n",
       "      <td>1</td>\n",
       "      <td>...</td>\n",
       "      <td>0</td>\n",
       "      <td>1</td>\n",
       "      <td>0</td>\n",
       "      <td>2017</td>\n",
       "      <td>1</td>\n",
       "      <td>9</td>\n",
       "      <td>55</td>\n",
       "      <td>1</td>\n",
       "      <td>16</td>\n",
       "      <td>14</td>\n",
       "    </tr>\n",
       "  </tbody>\n",
       "</table>\n",
       "<p>5 rows × 35 columns</p>\n",
       "</div>"
      ],
      "text/plain": [
       "        ID            datetime    siteid  offerid  category  merchant  \\\n",
       "0  IDFDJVI 2017-01-22 09:55:48  755610.0   808980     17714  26391770   \n",
       "1  IDfbJpA 2017-01-22 09:55:48  755610.0   794970     17714  26391770   \n",
       "2  IDF9SUX 2017-01-22 09:55:48  755610.0   862911     17714  26391770   \n",
       "3  IDwx0Vu 2017-01-22 09:55:48  755610.0   852044     17714  26391770   \n",
       "4  IDwY76g 2017-01-22 09:55:48  755610.0   259313     17714  26391770   \n",
       "\n",
       "   browserid_Chrome  browserid_Edge  browserid_Firefox  \\\n",
       "0                 0               0                  0   \n",
       "1                 0               0                  0   \n",
       "2                 0               1                  0   \n",
       "3                 0               0                  0   \n",
       "4                 0               0                  0   \n",
       "\n",
       "   browserid_Google Chrome       ...         countrycode_d  countrycode_e  \\\n",
       "0                        0       ...                     0              0   \n",
       "1                        0       ...                     0              0   \n",
       "2                        0       ...                     0              0   \n",
       "3                        0       ...                     0              0   \n",
       "4                        1       ...                     0              1   \n",
       "\n",
       "   countrycode_f  tyear  month  thour  tminute  site_offer_count  \\\n",
       "0              0   2017      1      9       55                 1   \n",
       "1              1   2017      1      9       55                 1   \n",
       "2              0   2017      1      9       55                 1   \n",
       "3              0   2017      1      9       55                 1   \n",
       "4              0   2017      1      9       55                 1   \n",
       "\n",
       "   site_cat_count  site_mcht_count  \n",
       "0              16               14  \n",
       "1              16               14  \n",
       "2              16               14  \n",
       "3              16               14  \n",
       "4              16               14  \n",
       "\n",
       "[5 rows x 35 columns]"
      ]
     },
     "execution_count": 40,
     "metadata": {},
     "output_type": "execute_result"
    }
   ],
   "source": [
    "test.head()"
   ]
  },
  {
   "cell_type": "code",
   "execution_count": 41,
   "metadata": {},
   "outputs": [
    {
     "data": {
      "text/plain": [
       "439"
      ]
     },
     "execution_count": 41,
     "metadata": {},
     "output_type": "execute_result"
    }
   ],
   "source": [
    "import gc\n",
    "del X_valid\n",
    "del Y_valid\n",
    "del X_train\n",
    "del Y_train\n",
    "#del test\n",
    "#del model\n",
    "del submit\n",
    "#del \n",
    "gc.collect()"
   ]
  },
  {
   "cell_type": "code",
   "execution_count": 42,
   "metadata": {
    "collapsed": true
   },
   "outputs": [],
   "source": [
    "XGB_model = XGBClassifier()"
   ]
  },
  {
   "cell_type": "code",
   "execution_count": 43,
   "metadata": {},
   "outputs": [
    {
     "data": {
      "text/plain": [
       "XGBClassifier(base_score=0.5, colsample_bylevel=1, colsample_bytree=1,\n",
       "       gamma=0, learning_rate=0.1, max_delta_step=0, max_depth=3,\n",
       "       min_child_weight=1, missing=None, n_estimators=100, nthread=-1,\n",
       "       objective='binary:logistic', reg_alpha=0, reg_lambda=1,\n",
       "       scale_pos_weight=1, seed=0, silent=True, subsample=1)"
      ]
     },
     "execution_count": 43,
     "metadata": {},
     "output_type": "execute_result"
    }
   ],
   "source": [
    "XGB_model.fit(strain, train.click)"
   ]
  },
  {
   "cell_type": "code",
   "execution_count": 44,
   "metadata": {
    "collapsed": true
   },
   "outputs": [],
   "source": [
    "test_preds2 = XGB_model.predict_proba(stest)[:,1]"
   ]
  },
  {
   "cell_type": "code",
   "execution_count": 45,
   "metadata": {},
   "outputs": [
    {
     "data": {
      "image/png": "[encoded data removed]",
      "text/plain": [
       "<matplotlib.figure.Figure at 0x7f3b176e53d0>"
      ]
     },
     "metadata": {},
     "output_type": "display_data"
    }
   ],
   "source": [
    "from xgboost import plot_importance\n",
    "import matplotlib.pyplot as plt\n",
    "plot_importance(XGB_model)\n",
    "plt.show()"
   ]
  },
  {
   "cell_type": "code",
   "execution_count": 46,
   "metadata": {},
   "outputs": [
    {
     "data": {
      "text/plain": [
       "0.0039577303"
      ]
     },
     "execution_count": 46,
     "metadata": {},
     "output_type": "execute_result"
    }
   ],
   "source": [
    "test_preds2[1]"
   ]
  },
  {
   "cell_type": "code",
   "execution_count": 47,
   "metadata": {},
   "outputs": [
    {
     "data": {
      "text/plain": [
       "0.00078275485"
      ]
     },
     "execution_count": 47,
     "metadata": {},
     "output_type": "execute_result"
    }
   ],
   "source": [
    "test_preds2[2]"
   ]
  },
  {
   "cell_type": "code",
   "execution_count": 48,
   "metadata": {
    "collapsed": true
   },
   "outputs": [],
   "source": [
    "test = pd.read_csv('DATASET/test.csv')"
   ]
  },
  {
   "cell_type": "code",
   "execution_count": 49,
   "metadata": {
    "collapsed": true
   },
   "outputs": [],
   "source": [
    "submitXGB = pd.DataFrame({'ID':test.ID, 'click':test_preds2})\n",
    "submitXGB.to_csv('Submission/XGB2new2.csv', index=False)"
   ]
  },
  {
   "cell_type": "code",
   "execution_count": 50,
   "metadata": {
    "collapsed": true
   },
   "outputs": [],
   "source": [
    "test_pred_ensemble = (test_preds2 + test_preds)/2.0\n",
    "submitE = pd.DataFrame({'ID':test.ID, 'click':test_pred_ensemble})\n",
    "submitE.to_csv('Submission/ENSEMBLE2new2.csv', index=False)"
   ]
  },
  {
   "cell_type": "code",
   "execution_count": 33,
   "metadata": {
    "collapsed": true
   },
   "outputs": [],
   "source": [
    "#X_train.shape"
   ]
  },
  {
   "cell_type": "code",
   "execution_count": 34,
   "metadata": {},
   "outputs": [
    {
     "data": {
      "text/plain": [
       "(1213781,)"
      ]
     },
     "execution_count": 34,
     "metadata": {},
     "output_type": "execute_result"
    }
   ],
   "source": [
    "vpreds.shape"
   ]
  },
  {
   "cell_type": "code",
   "execution_count": 35,
   "metadata": {
    "collapsed": true
   },
   "outputs": [],
   "source": [
    "Y_train_pred = model.predict(strain)[:,1]"
   ]
  },
  {
   "cell_type": "code",
   "execution_count": 36,
   "metadata": {},
   "outputs": [
    {
     "data": {
      "text/plain": [
       "0.97617703213793139"
      ]
     },
     "execution_count": 36,
     "metadata": {},
     "output_type": "execute_result"
    }
   ],
   "source": [
    "roc_auc_score(train.click,Y_train_pred)"
   ]
  },
  {
   "cell_type": "code",
   "execution_count": 37,
   "metadata": {},
   "outputs": [
    {
     "data": {
      "text/plain": [
       "(12137810, 16)"
      ]
     },
     "execution_count": 37,
     "metadata": {},
     "output_type": "execute_result"
    }
   ],
   "source": [
    "strain.shape"
   ]
  },
  {
   "cell_type": "code",
   "execution_count": 38,
   "metadata": {},
   "outputs": [
    {
     "data": {
      "text/plain": [
       "(12137810,)"
      ]
     },
     "execution_count": 38,
     "metadata": {},
     "output_type": "execute_result"
    }
   ],
   "source": [
    "Y_train_pred.shape"
   ]
  },
  {
   "cell_type": "code",
   "execution_count": 39,
   "metadata": {
    "collapsed": true
   },
   "outputs": [],
   "source": [
    "Data_l1 = pd.DataFrame(data=strain)"
   ]
  },
  {
   "cell_type": "code",
   "execution_count": 40,
   "metadata": {
    "collapsed": true
   },
   "outputs": [],
   "source": [
    "Data_l1[\"Y_pred\"]=Y_train_pred"
   ]
  },
  {
   "cell_type": "code",
   "execution_count": 41,
   "metadata": {},
   "outputs": [
    {
     "data": {
      "text/plain": [
       "(12137810, 17)"
      ]
     },
     "execution_count": 41,
     "metadata": {},
     "output_type": "execute_result"
    }
   ],
   "source": [
    "Data_l1.shape"
   ]
  },
  {
   "cell_type": "code",
   "execution_count": 42,
   "metadata": {
    "collapsed": true
   },
   "outputs": [],
   "source": [
    "Test_l1 = pd.DataFrame(data=stest)"
   ]
  },
  {
   "cell_type": "code",
   "execution_count": null,
   "metadata": {
    "collapsed": true
   },
   "outputs": [],
   "source": [
    "Test_l1[\"Y_pred\"] = test_preds"
   ]
  },
  {
   "cell_type": "code",
   "execution_count": null,
   "metadata": {
    "collapsed": true
   },
   "outputs": [],
   "source": [
    "XGB_model_L2 = XGBClassifier()\n",
    "XGB_model_L2.fit(Data_l1, train.click)"
   ]
  },
  {
   "cell_type": "code",
   "execution_count": null,
   "metadata": {
    "collapsed": true
   },
   "outputs": [],
   "source": [
    "test_preds_L2 = XGB_model_L2.predict_proba(Test_l1)[:,1]"
   ]
  },
  {
   "cell_type": "code",
   "execution_count": null,
   "metadata": {
    "collapsed": true
   },
   "outputs": [],
   "source": [
    "submitXGB_l2 = pd.DataFrame({'ID':test.ID, 'click':test_preds_L2})\n",
    "#submitXGB_l2.to_csv('Submission/XGB_L2_2.csv', index=False)"
   ]
  },
  {
   "cell_type": "code",
   "execution_count": null,
   "metadata": {
    "collapsed": true
   },
   "outputs": [],
   "source": [
    "test_preds_L2[1]"
   ]
  },
  {
   "cell_type": "code",
   "execution_count": null,
   "metadata": {
    "collapsed": true
   },
   "outputs": [],
   "source": [
    "from xgboost import plot_importance\n",
    "import matplotlib.pyplot as plt\n",
    "plot_importance(XGB_model_L2)\n",
    "plt.show()"
   ]
  }
 ],
 "metadata": {
  "kernelspec": {
   "display_name": "Python 2",
   "language": "python",
   "name": "python2"
  },
  "language_info": {
   "codemirror_mode": {
    "name": "ipython",
    "version": 2
   },
   "file_extension": ".py",
   "mimetype": "text/x-python",
   "name": "python",
   "nbconvert_exporter": "python",
   "pygments_lexer": "ipython2",
   "version": "2.7.13"
  }
 },
 "nbformat": 4,
 "nbformat_minor": 2
}
