{
 "cells": [
  {
   "cell_type": "code",
   "execution_count": 1,
   "metadata": {},
   "outputs": [
    {
     "name": "stderr",
     "output_type": "stream",
     "text": [
      "Using TensorFlow backend.\n"
     ]
    }
   ],
   "source": [
    "import numpy as np\n",
    "import pandas as pd\n",
    "\n",
    "from keras.models import Sequential\n",
    "from keras.layers import Dense\n",
    "from keras.utils import to_categorical\n",
    "from keras.callbacks import EarlyStopping\n",
    "\n",
    "from sklearn.model_selection import train_test_split\n",
    "from sklearn.preprocessing import StandardScaler"
   ]
  },
  {
   "cell_type": "code",
   "execution_count": 2,
   "metadata": {
    "collapsed": true
   },
   "outputs": [],
   "source": [
    "train = pd.read_csv('DATASET/train.csv')\n",
    "test = pd.read_csv('DATASET/test.csv')"
   ]
  },
  {
   "cell_type": "code",
   "execution_count": 3,
   "metadata": {},
   "outputs": [
    {
     "name": "stdout",
     "output_type": "stream",
     "text": [
      "The train data has 12137810 rows and 10 columns\n",
      "The test data has 3706907 rows and 9 columns\n"
     ]
    }
   ],
   "source": [
    "print ('The train data has {} rows and {} columns'.format(train.shape[0],train.shape[1]))\n",
    "print ('The test data has {} rows and {} columns'.format(test.shape[0],test.shape[1]))"
   ]
  },
  {
   "cell_type": "code",
   "execution_count": 4,
   "metadata": {},
   "outputs": [
    {
     "data": {
      "text/html": [
       "<div>\n",
       "<style>\n",
       "    .dataframe thead tr:only-child th {\n",
       "        text-align: right;\n",
       "    }\n",
       "\n",
       "    .dataframe thead th {\n",
       "        text-align: left;\n",
       "    }\n",
       "\n",
       "    .dataframe tbody tr th {\n",
       "        vertical-align: top;\n",
       "    }\n",
       "</style>\n",
       "<table border=\"1\" class=\"dataframe\">\n",
       "  <thead>\n",
       "    <tr style=\"text-align: right;\">\n",
       "      <th></th>\n",
       "      <th>ID</th>\n",
       "      <th>datetime</th>\n",
       "      <th>siteid</th>\n",
       "      <th>offerid</th>\n",
       "      <th>category</th>\n",
       "      <th>merchant</th>\n",
       "      <th>countrycode</th>\n",
       "      <th>browserid</th>\n",
       "      <th>devid</th>\n",
       "      <th>click</th>\n",
       "    </tr>\n",
       "  </thead>\n",
       "  <tbody>\n",
       "    <tr>\n",
       "      <th>0</th>\n",
       "      <td>IDsrk7SoW</td>\n",
       "      <td>2017-01-14 09:42:09</td>\n",
       "      <td>4709696.0</td>\n",
       "      <td>887235</td>\n",
       "      <td>17714</td>\n",
       "      <td>20301556</td>\n",
       "      <td>e</td>\n",
       "      <td>Firefox</td>\n",
       "      <td>NaN</td>\n",
       "      <td>0</td>\n",
       "    </tr>\n",
       "    <tr>\n",
       "      <th>1</th>\n",
       "      <td>IDmMSxHur</td>\n",
       "      <td>2017-01-18 17:50:53</td>\n",
       "      <td>5189467.0</td>\n",
       "      <td>178235</td>\n",
       "      <td>21407</td>\n",
       "      <td>9434818</td>\n",
       "      <td>b</td>\n",
       "      <td>Mozilla Firefox</td>\n",
       "      <td>Desktop</td>\n",
       "      <td>0</td>\n",
       "    </tr>\n",
       "    <tr>\n",
       "      <th>2</th>\n",
       "      <td>IDVLNN0Ut</td>\n",
       "      <td>2017-01-11 12:46:49</td>\n",
       "      <td>98480.0</td>\n",
       "      <td>518539</td>\n",
       "      <td>25085</td>\n",
       "      <td>2050923</td>\n",
       "      <td>a</td>\n",
       "      <td>Edge</td>\n",
       "      <td>NaN</td>\n",
       "      <td>0</td>\n",
       "    </tr>\n",
       "    <tr>\n",
       "      <th>3</th>\n",
       "      <td>ID32T6wwQ</td>\n",
       "      <td>2017-01-17 10:18:43</td>\n",
       "      <td>8896401.0</td>\n",
       "      <td>390352</td>\n",
       "      <td>40339</td>\n",
       "      <td>72089744</td>\n",
       "      <td>c</td>\n",
       "      <td>Firefox</td>\n",
       "      <td>Mobile</td>\n",
       "      <td>0</td>\n",
       "    </tr>\n",
       "    <tr>\n",
       "      <th>4</th>\n",
       "      <td>IDqUShzMg</td>\n",
       "      <td>2017-01-14 16:02:33</td>\n",
       "      <td>5635120.0</td>\n",
       "      <td>472937</td>\n",
       "      <td>12052</td>\n",
       "      <td>39507200</td>\n",
       "      <td>d</td>\n",
       "      <td>Mozilla Firefox</td>\n",
       "      <td>Desktop</td>\n",
       "      <td>0</td>\n",
       "    </tr>\n",
       "  </tbody>\n",
       "</table>\n",
       "</div>"
      ],
      "text/plain": [
       "          ID             datetime     siteid  offerid  category  merchant  \\\n",
       "0  IDsrk7SoW  2017-01-14 09:42:09  4709696.0   887235     17714  20301556   \n",
       "1  IDmMSxHur  2017-01-18 17:50:53  5189467.0   178235     21407   9434818   \n",
       "2  IDVLNN0Ut  2017-01-11 12:46:49    98480.0   518539     25085   2050923   \n",
       "3  ID32T6wwQ  2017-01-17 10:18:43  8896401.0   390352     40339  72089744   \n",
       "4  IDqUShzMg  2017-01-14 16:02:33  5635120.0   472937     12052  39507200   \n",
       "\n",
       "  countrycode        browserid    devid  click  \n",
       "0           e          Firefox      NaN      0  \n",
       "1           b  Mozilla Firefox  Desktop      0  \n",
       "2           a             Edge      NaN      0  \n",
       "3           c          Firefox   Mobile      0  \n",
       "4           d  Mozilla Firefox  Desktop      0  "
      ]
     },
     "execution_count": 4,
     "metadata": {},
     "output_type": "execute_result"
    }
   ],
   "source": [
    "train.head()"
   ]
  },
  {
   "cell_type": "code",
   "execution_count": 5,
   "metadata": {
    "collapsed": true
   },
   "outputs": [],
   "source": [
    "# imputing missing values\n",
    "train['siteid'].fillna(-999, inplace=True)\n",
    "test['siteid'].fillna(-999, inplace=True)\n",
    "\n",
    "train['browserid'].fillna(\"None\",inplace=True)\n",
    "test['browserid'].fillna(\"None\", inplace=True)\n",
    "\n",
    "train['devid'].fillna(\"None\",inplace=True)\n",
    "test['devid'].fillna(\"None\",inplace=True)"
   ]
  },
  {
   "cell_type": "code",
   "execution_count": 6,
   "metadata": {},
   "outputs": [],
   "source": [
    "train['browserid'] = train['browserid'].map(lambda x: 'Firefox' if(x=='Mozilla Firefox') else x)\n",
    "train['browserid'] = train['browserid'].map(lambda x: 'Firefox' if(x=='Mozilla') else x)\n",
    "\n",
    "train['browserid'] = train['browserid'].map(lambda x: 'Chrome' if(x=='Chrome') else x)\n",
    "train['browserid'] = train['browserid'].map(lambda x: 'Chrome' if(x=='Google Chrome') else x)\n",
    "\n",
    "train['browserid'] = train['browserid'].map(lambda x: 'IE' if(x=='InternetExplorer') else x)\n",
    "train['browserid'] = train['browserid'].map(lambda x: 'IE' if(x=='Internet Explorer') else x)\n",
    "\n",
    "test['browserid'] = test['browserid'].map(lambda x: 'Firefox' if(x=='Mozilla Firefox') else x)\n",
    "test['browserid'] = test['browserid'].map(lambda x: 'Firefox' if(x=='Mozilla') else x)\n",
    "\n",
    "test['browserid'] = test['browserid'].map(lambda x: 'Chrome' if(x=='Chrome') else x)\n",
    "test['browserid'] = test['browserid'].map(lambda x: 'Chrome' if(x=='Google Chrome') else x)\n",
    "\n",
    "test['browserid'] = test['browserid'].map(lambda x: 'IE' if(x=='InternetExplorer') else x)\n",
    "test['browserid'] = test['browserid'].map(lambda x: 'IE' if(x=='Internet Explorer') else x)\n",
    "\n"
   ]
  },
  {
   "cell_type": "code",
   "execution_count": 7,
   "metadata": {
    "collapsed": true
   },
   "outputs": [],
   "source": [
    "# create timebased features\n",
    "train['datetime'] = pd.to_datetime(train['datetime'])\n",
    "test['datetime'] = pd.to_datetime(test['datetime'])\n",
    "\n",
    "#train['tweekday'] = train['datetime'].dt.weekday\n",
    "#test['tweekday'] = test['datetime'].dt.weekday\n",
    "\n",
    "train['tyear'] = train['datetime'].dt.year\n",
    "test['tyear'] = test['datetime'].dt.year\n",
    "\n",
    "train['month'] = train['datetime'].dt.month\n",
    "test['month'] = test['datetime'].dt.month\n",
    "\n",
    "#train['tday'] = train['datetime'].dt.day\n",
    "#test['tday'] = test['datetime'].dt.day\n",
    "\n",
    "train['thour'] = train['datetime'].dt.hour\n",
    "test['thour'] = test['datetime'].dt.hour\n",
    "\n",
    "train['tminute'] = train['datetime'].dt.minute\n",
    "test['tminute'] = test['datetime'].dt.minute"
   ]
  },
  {
   "cell_type": "code",
   "execution_count": 8,
   "metadata": {
    "collapsed": true
   },
   "outputs": [],
   "source": [
    "# create aggregate features\n",
    "site_offer_count = train.groupby(['siteid','offerid']).size().reset_index()\n",
    "site_offer_count.columns = ['siteid','offerid','site_offer_count']\n",
    "\n",
    "site_offer_count_test = test.groupby(['siteid','offerid']).size().reset_index()\n",
    "site_offer_count_test.columns = ['siteid','offerid','site_offer_count']\n",
    "\n",
    "site_cat_count = train.groupby(['siteid','category']).size().reset_index()\n",
    "site_cat_count.columns = ['siteid','category','site_cat_count']\n",
    "\n",
    "site_cat_count_test = test.groupby(['siteid','category']).size().reset_index()\n",
    "site_cat_count_test.columns = ['siteid','category','site_cat_count']\n",
    "\n",
    "site_mcht_count = train.groupby(['siteid','merchant']).size().reset_index()\n",
    "site_mcht_count.columns = ['siteid','merchant','site_mcht_count']\n",
    "\n",
    "site_mcht_count_test = test.groupby(['siteid','merchant']).size().reset_index()\n",
    "site_mcht_count_test.columns = ['siteid','merchant','site_mcht_count']"
   ]
  },
  {
   "cell_type": "code",
   "execution_count": 9,
   "metadata": {
    "collapsed": true
   },
   "outputs": [],
   "source": [
    "site_dev_count = train.groupby(['siteid','devid']).size().reset_index()\n",
    "site_dev_count.columns = ['siteid','devid','site_dev_count']\n",
    "\n",
    "site_dev_count_test = test.groupby(['siteid','devid']).size().reset_index()\n",
    "site_dev_count_test.columns = ['siteid','devid','site_dev_count']\n",
    "\n",
    "site_brows_count = train.groupby(['siteid','browserid']).size().reset_index()\n",
    "site_brows_count.columns = ['siteid','browserid','site_brows_count']\n",
    "\n",
    "site_brows_count_test = test.groupby(['siteid','browserid']).size().reset_index()\n",
    "site_brows_count_test.columns = ['siteid','browserid','site_brows_count']\n",
    "\n",
    "site_country_count = train.groupby(['siteid','countrycode']).size().reset_index()\n",
    "site_country_count.columns = ['siteid','countrycode','site_country_count']\n",
    "\n",
    "site_country_count_test = test.groupby(['siteid','countrycode']).size().reset_index()\n",
    "site_country_count_test.columns = ['siteid','countrycode','site_country_count']\n"
   ]
  },
  {
   "cell_type": "code",
   "execution_count": 10,
   "metadata": {
    "collapsed": true
   },
   "outputs": [],
   "source": [
    "\n",
    "# joining all files\n",
    "agg_df = [site_offer_count,site_cat_count,site_mcht_count,site_dev_count,site_brows_count,site_country_count]\n",
    "agg_df_test = [site_offer_count_test,site_cat_count_test,site_mcht_count_test,site_dev_count_test,site_brows_count_test,site_country_count_test]\n",
    "\n",
    "for x in agg_df:\n",
    "    train = train.merge(x)\n",
    "    \n",
    "for x in agg_df_test:\n",
    "    test = test.merge(x)"
   ]
  },
  {
   "cell_type": "code",
   "execution_count": 11,
   "metadata": {
    "collapsed": true
   },
   "outputs": [],
   "source": [
    "#from sklearn.preprocessing import OneHotEncoder\n",
    "#enc = OneHotEncoder()\n",
    "#enc.fit\n",
    "train = pd.get_dummies(train,columns=['browserid','devid','countrycode'])\n",
    "test = pd.get_dummies(test,columns=['browserid','devid','countrycode'])"
   ]
  },
  {
   "cell_type": "code",
   "execution_count": 12,
   "metadata": {},
   "outputs": [
    {
     "name": "stdout",
     "output_type": "stream",
     "text": [
      "<class 'pandas.core.frame.DataFrame'>\n",
      "Int64Index: 12137810 entries, 0 to 12137809\n",
      "Data columns (total 34 columns):\n",
      "ID                    object\n",
      "datetime              datetime64[ns]\n",
      "siteid                float64\n",
      "offerid               int64\n",
      "category              int64\n",
      "merchant              int64\n",
      "click                 int64\n",
      "tyear                 int64\n",
      "month                 int64\n",
      "thour                 int64\n",
      "tminute               int64\n",
      "site_offer_count      int64\n",
      "site_cat_count        int64\n",
      "site_mcht_count       int64\n",
      "site_dev_count        int64\n",
      "site_brows_count      int64\n",
      "site_country_count    int64\n",
      "browserid_Chrome      uint8\n",
      "browserid_Edge        uint8\n",
      "browserid_Firefox     uint8\n",
      "browserid_IE          uint8\n",
      "browserid_None        uint8\n",
      "browserid_Opera       uint8\n",
      "browserid_Safari      uint8\n",
      "devid_Desktop         uint8\n",
      "devid_Mobile          uint8\n",
      "devid_None            uint8\n",
      "devid_Tablet          uint8\n",
      "countrycode_a         uint8\n",
      "countrycode_b         uint8\n",
      "countrycode_c         uint8\n",
      "countrycode_d         uint8\n",
      "countrycode_e         uint8\n",
      "countrycode_f         uint8\n",
      "dtypes: datetime64[ns](1), float64(1), int64(14), object(1), uint8(17)\n",
      "memory usage: 1.8+ GB\n"
     ]
    }
   ],
   "source": [
    "train.info()"
   ]
  },
  {
   "cell_type": "code",
   "execution_count": 13,
   "metadata": {},
   "outputs": [
    {
     "name": "stdout",
     "output_type": "stream",
     "text": [
      "<class 'pandas.core.frame.DataFrame'>\n",
      "Int64Index: 3706907 entries, 0 to 3706906\n",
      "Data columns (total 33 columns):\n",
      "ID                    object\n",
      "datetime              datetime64[ns]\n",
      "siteid                float64\n",
      "offerid               int64\n",
      "category              int64\n",
      "merchant              int64\n",
      "tyear                 int64\n",
      "month                 int64\n",
      "thour                 int64\n",
      "tminute               int64\n",
      "site_offer_count      int64\n",
      "site_cat_count        int64\n",
      "site_mcht_count       int64\n",
      "site_dev_count        int64\n",
      "site_brows_count      int64\n",
      "site_country_count    int64\n",
      "browserid_Chrome      uint8\n",
      "browserid_Edge        uint8\n",
      "browserid_Firefox     uint8\n",
      "browserid_IE          uint8\n",
      "browserid_None        uint8\n",
      "browserid_Opera       uint8\n",
      "browserid_Safari      uint8\n",
      "devid_Desktop         uint8\n",
      "devid_Mobile          uint8\n",
      "devid_None            uint8\n",
      "devid_Tablet          uint8\n",
      "countrycode_a         uint8\n",
      "countrycode_b         uint8\n",
      "countrycode_c         uint8\n",
      "countrycode_d         uint8\n",
      "countrycode_e         uint8\n",
      "countrycode_f         uint8\n",
      "dtypes: datetime64[ns](1), float64(1), int64(13), object(1), uint8(17)\n",
      "memory usage: 540.9+ MB\n"
     ]
    }
   ],
   "source": [
    "test.info()"
   ]
  },
  {
   "cell_type": "code",
   "execution_count": 16,
   "metadata": {},
   "outputs": [
    {
     "data": {
      "text/html": [
       "<div>\n",
       "<style>\n",
       "    .dataframe thead tr:only-child th {\n",
       "        text-align: right;\n",
       "    }\n",
       "\n",
       "    .dataframe thead th {\n",
       "        text-align: left;\n",
       "    }\n",
       "\n",
       "    .dataframe tbody tr th {\n",
       "        vertical-align: top;\n",
       "    }\n",
       "</style>\n",
       "<table border=\"1\" class=\"dataframe\">\n",
       "  <thead>\n",
       "    <tr style=\"text-align: right;\">\n",
       "      <th></th>\n",
       "      <th>ID</th>\n",
       "      <th>datetime</th>\n",
       "      <th>siteid</th>\n",
       "      <th>offerid</th>\n",
       "      <th>category</th>\n",
       "      <th>merchant</th>\n",
       "      <th>click</th>\n",
       "      <th>tyear</th>\n",
       "      <th>month</th>\n",
       "      <th>thour</th>\n",
       "      <th>...</th>\n",
       "      <th>devid_Desktop</th>\n",
       "      <th>devid_Mobile</th>\n",
       "      <th>devid_None</th>\n",
       "      <th>devid_Tablet</th>\n",
       "      <th>countrycode_a</th>\n",
       "      <th>countrycode_b</th>\n",
       "      <th>countrycode_c</th>\n",
       "      <th>countrycode_d</th>\n",
       "      <th>countrycode_e</th>\n",
       "      <th>countrycode_f</th>\n",
       "    </tr>\n",
       "  </thead>\n",
       "  <tbody>\n",
       "    <tr>\n",
       "      <th>0</th>\n",
       "      <td>IDsrk7SoW</td>\n",
       "      <td>2017-01-14 09:42:09</td>\n",
       "      <td>4709696.0</td>\n",
       "      <td>887235</td>\n",
       "      <td>17714</td>\n",
       "      <td>20301556</td>\n",
       "      <td>0</td>\n",
       "      <td>2017</td>\n",
       "      <td>1</td>\n",
       "      <td>9</td>\n",
       "      <td>...</td>\n",
       "      <td>0</td>\n",
       "      <td>0</td>\n",
       "      <td>1</td>\n",
       "      <td>0</td>\n",
       "      <td>0</td>\n",
       "      <td>0</td>\n",
       "      <td>0</td>\n",
       "      <td>0</td>\n",
       "      <td>1</td>\n",
       "      <td>0</td>\n",
       "    </tr>\n",
       "    <tr>\n",
       "      <th>1</th>\n",
       "      <td>IDgRh6riJ</td>\n",
       "      <td>2017-01-14 16:27:58</td>\n",
       "      <td>4709696.0</td>\n",
       "      <td>262117</td>\n",
       "      <td>5602</td>\n",
       "      <td>55277834</td>\n",
       "      <td>0</td>\n",
       "      <td>2017</td>\n",
       "      <td>1</td>\n",
       "      <td>16</td>\n",
       "      <td>...</td>\n",
       "      <td>0</td>\n",
       "      <td>0</td>\n",
       "      <td>1</td>\n",
       "      <td>0</td>\n",
       "      <td>0</td>\n",
       "      <td>0</td>\n",
       "      <td>0</td>\n",
       "      <td>0</td>\n",
       "      <td>1</td>\n",
       "      <td>0</td>\n",
       "    </tr>\n",
       "    <tr>\n",
       "      <th>2</th>\n",
       "      <td>IDTdpK2Wo</td>\n",
       "      <td>2017-01-14 16:15:31</td>\n",
       "      <td>4709696.0</td>\n",
       "      <td>735140</td>\n",
       "      <td>82877</td>\n",
       "      <td>48615529</td>\n",
       "      <td>0</td>\n",
       "      <td>2017</td>\n",
       "      <td>1</td>\n",
       "      <td>16</td>\n",
       "      <td>...</td>\n",
       "      <td>0</td>\n",
       "      <td>0</td>\n",
       "      <td>1</td>\n",
       "      <td>0</td>\n",
       "      <td>0</td>\n",
       "      <td>0</td>\n",
       "      <td>0</td>\n",
       "      <td>0</td>\n",
       "      <td>1</td>\n",
       "      <td>0</td>\n",
       "    </tr>\n",
       "    <tr>\n",
       "      <th>3</th>\n",
       "      <td>ID3yGigGd</td>\n",
       "      <td>2017-01-13 06:09:26</td>\n",
       "      <td>4709696.0</td>\n",
       "      <td>347710</td>\n",
       "      <td>48498</td>\n",
       "      <td>7864011</td>\n",
       "      <td>0</td>\n",
       "      <td>2017</td>\n",
       "      <td>1</td>\n",
       "      <td>6</td>\n",
       "      <td>...</td>\n",
       "      <td>0</td>\n",
       "      <td>0</td>\n",
       "      <td>1</td>\n",
       "      <td>0</td>\n",
       "      <td>0</td>\n",
       "      <td>0</td>\n",
       "      <td>0</td>\n",
       "      <td>0</td>\n",
       "      <td>1</td>\n",
       "      <td>0</td>\n",
       "    </tr>\n",
       "    <tr>\n",
       "      <th>4</th>\n",
       "      <td>IDeXQJMLe</td>\n",
       "      <td>2017-01-14 10:08:14</td>\n",
       "      <td>4709696.0</td>\n",
       "      <td>248024</td>\n",
       "      <td>9764</td>\n",
       "      <td>84522677</td>\n",
       "      <td>0</td>\n",
       "      <td>2017</td>\n",
       "      <td>1</td>\n",
       "      <td>10</td>\n",
       "      <td>...</td>\n",
       "      <td>0</td>\n",
       "      <td>0</td>\n",
       "      <td>1</td>\n",
       "      <td>0</td>\n",
       "      <td>0</td>\n",
       "      <td>0</td>\n",
       "      <td>0</td>\n",
       "      <td>0</td>\n",
       "      <td>1</td>\n",
       "      <td>0</td>\n",
       "    </tr>\n",
       "  </tbody>\n",
       "</table>\n",
       "<p>5 rows × 34 columns</p>\n",
       "</div>"
      ],
      "text/plain": [
       "          ID            datetime     siteid  offerid  category  merchant  \\\n",
       "0  IDsrk7SoW 2017-01-14 09:42:09  4709696.0   887235     17714  20301556   \n",
       "1  IDgRh6riJ 2017-01-14 16:27:58  4709696.0   262117      5602  55277834   \n",
       "2  IDTdpK2Wo 2017-01-14 16:15:31  4709696.0   735140     82877  48615529   \n",
       "3  ID3yGigGd 2017-01-13 06:09:26  4709696.0   347710     48498   7864011   \n",
       "4  IDeXQJMLe 2017-01-14 10:08:14  4709696.0   248024      9764  84522677   \n",
       "\n",
       "   click  tyear  month  thour      ...        devid_Desktop  devid_Mobile  \\\n",
       "0      0   2017      1      9      ...                    0             0   \n",
       "1      0   2017      1     16      ...                    0             0   \n",
       "2      0   2017      1     16      ...                    0             0   \n",
       "3      0   2017      1      6      ...                    0             0   \n",
       "4      0   2017      1     10      ...                    0             0   \n",
       "\n",
       "   devid_None  devid_Tablet  countrycode_a  countrycode_b  countrycode_c  \\\n",
       "0           1             0              0              0              0   \n",
       "1           1             0              0              0              0   \n",
       "2           1             0              0              0              0   \n",
       "3           1             0              0              0              0   \n",
       "4           1             0              0              0              0   \n",
       "\n",
       "   countrycode_d  countrycode_e  countrycode_f  \n",
       "0              0              1              0  \n",
       "1              0              1              0  \n",
       "2              0              1              0  \n",
       "3              0              1              0  \n",
       "4              0              1              0  \n",
       "\n",
       "[5 rows x 34 columns]"
      ]
     },
     "execution_count": 16,
     "metadata": {},
     "output_type": "execute_result"
    }
   ],
   "source": [
    "train.head()"
   ]
  },
  {
   "cell_type": "code",
   "execution_count": 17,
   "metadata": {},
   "outputs": [
    {
     "data": {
      "text/html": [
       "<div>\n",
       "<style>\n",
       "    .dataframe thead tr:only-child th {\n",
       "        text-align: right;\n",
       "    }\n",
       "\n",
       "    .dataframe thead th {\n",
       "        text-align: left;\n",
       "    }\n",
       "\n",
       "    .dataframe tbody tr th {\n",
       "        vertical-align: top;\n",
       "    }\n",
       "</style>\n",
       "<table border=\"1\" class=\"dataframe\">\n",
       "  <thead>\n",
       "    <tr style=\"text-align: right;\">\n",
       "      <th></th>\n",
       "      <th>ID</th>\n",
       "      <th>datetime</th>\n",
       "      <th>siteid</th>\n",
       "      <th>offerid</th>\n",
       "      <th>category</th>\n",
       "      <th>merchant</th>\n",
       "      <th>tyear</th>\n",
       "      <th>month</th>\n",
       "      <th>thour</th>\n",
       "      <th>tminute</th>\n",
       "      <th>...</th>\n",
       "      <th>devid_Desktop</th>\n",
       "      <th>devid_Mobile</th>\n",
       "      <th>devid_None</th>\n",
       "      <th>devid_Tablet</th>\n",
       "      <th>countrycode_a</th>\n",
       "      <th>countrycode_b</th>\n",
       "      <th>countrycode_c</th>\n",
       "      <th>countrycode_d</th>\n",
       "      <th>countrycode_e</th>\n",
       "      <th>countrycode_f</th>\n",
       "    </tr>\n",
       "  </thead>\n",
       "  <tbody>\n",
       "    <tr>\n",
       "      <th>0</th>\n",
       "      <td>IDFDJVI</td>\n",
       "      <td>2017-01-22 09:55:48</td>\n",
       "      <td>755610.0</td>\n",
       "      <td>808980</td>\n",
       "      <td>17714</td>\n",
       "      <td>26391770</td>\n",
       "      <td>2017</td>\n",
       "      <td>1</td>\n",
       "      <td>9</td>\n",
       "      <td>55</td>\n",
       "      <td>...</td>\n",
       "      <td>1</td>\n",
       "      <td>0</td>\n",
       "      <td>0</td>\n",
       "      <td>0</td>\n",
       "      <td>0</td>\n",
       "      <td>1</td>\n",
       "      <td>0</td>\n",
       "      <td>0</td>\n",
       "      <td>0</td>\n",
       "      <td>0</td>\n",
       "    </tr>\n",
       "    <tr>\n",
       "      <th>1</th>\n",
       "      <td>ID4mzgU</td>\n",
       "      <td>2017-01-22 09:55:48</td>\n",
       "      <td>755610.0</td>\n",
       "      <td>550246</td>\n",
       "      <td>17714</td>\n",
       "      <td>26391770</td>\n",
       "      <td>2017</td>\n",
       "      <td>1</td>\n",
       "      <td>9</td>\n",
       "      <td>55</td>\n",
       "      <td>...</td>\n",
       "      <td>1</td>\n",
       "      <td>0</td>\n",
       "      <td>0</td>\n",
       "      <td>0</td>\n",
       "      <td>0</td>\n",
       "      <td>1</td>\n",
       "      <td>0</td>\n",
       "      <td>0</td>\n",
       "      <td>0</td>\n",
       "      <td>0</td>\n",
       "    </tr>\n",
       "    <tr>\n",
       "      <th>2</th>\n",
       "      <td>IDLyixf</td>\n",
       "      <td>2017-01-22 09:55:48</td>\n",
       "      <td>755610.0</td>\n",
       "      <td>390677</td>\n",
       "      <td>17714</td>\n",
       "      <td>61682792</td>\n",
       "      <td>2017</td>\n",
       "      <td>1</td>\n",
       "      <td>9</td>\n",
       "      <td>55</td>\n",
       "      <td>...</td>\n",
       "      <td>1</td>\n",
       "      <td>0</td>\n",
       "      <td>0</td>\n",
       "      <td>0</td>\n",
       "      <td>0</td>\n",
       "      <td>1</td>\n",
       "      <td>0</td>\n",
       "      <td>0</td>\n",
       "      <td>0</td>\n",
       "      <td>0</td>\n",
       "    </tr>\n",
       "    <tr>\n",
       "      <th>3</th>\n",
       "      <td>IDJxmu8</td>\n",
       "      <td>2017-01-22 09:54:57</td>\n",
       "      <td>755610.0</td>\n",
       "      <td>30278</td>\n",
       "      <td>33638</td>\n",
       "      <td>8958548</td>\n",
       "      <td>2017</td>\n",
       "      <td>1</td>\n",
       "      <td>9</td>\n",
       "      <td>54</td>\n",
       "      <td>...</td>\n",
       "      <td>1</td>\n",
       "      <td>0</td>\n",
       "      <td>0</td>\n",
       "      <td>0</td>\n",
       "      <td>0</td>\n",
       "      <td>1</td>\n",
       "      <td>0</td>\n",
       "      <td>0</td>\n",
       "      <td>0</td>\n",
       "      <td>0</td>\n",
       "    </tr>\n",
       "    <tr>\n",
       "      <th>4</th>\n",
       "      <td>IDZGhMA</td>\n",
       "      <td>2017-01-22 09:54:57</td>\n",
       "      <td>755610.0</td>\n",
       "      <td>965657</td>\n",
       "      <td>33638</td>\n",
       "      <td>79906734</td>\n",
       "      <td>2017</td>\n",
       "      <td>1</td>\n",
       "      <td>9</td>\n",
       "      <td>54</td>\n",
       "      <td>...</td>\n",
       "      <td>1</td>\n",
       "      <td>0</td>\n",
       "      <td>0</td>\n",
       "      <td>0</td>\n",
       "      <td>0</td>\n",
       "      <td>1</td>\n",
       "      <td>0</td>\n",
       "      <td>0</td>\n",
       "      <td>0</td>\n",
       "      <td>0</td>\n",
       "    </tr>\n",
       "  </tbody>\n",
       "</table>\n",
       "<p>5 rows × 33 columns</p>\n",
       "</div>"
      ],
      "text/plain": [
       "        ID            datetime    siteid  offerid  category  merchant  tyear  \\\n",
       "0  IDFDJVI 2017-01-22 09:55:48  755610.0   808980     17714  26391770   2017   \n",
       "1  ID4mzgU 2017-01-22 09:55:48  755610.0   550246     17714  26391770   2017   \n",
       "2  IDLyixf 2017-01-22 09:55:48  755610.0   390677     17714  61682792   2017   \n",
       "3  IDJxmu8 2017-01-22 09:54:57  755610.0    30278     33638   8958548   2017   \n",
       "4  IDZGhMA 2017-01-22 09:54:57  755610.0   965657     33638  79906734   2017   \n",
       "\n",
       "   month  thour  tminute      ...        devid_Desktop  devid_Mobile  \\\n",
       "0      1      9       55      ...                    1             0   \n",
       "1      1      9       55      ...                    1             0   \n",
       "2      1      9       55      ...                    1             0   \n",
       "3      1      9       54      ...                    1             0   \n",
       "4      1      9       54      ...                    1             0   \n",
       "\n",
       "   devid_None  devid_Tablet  countrycode_a  countrycode_b  countrycode_c  \\\n",
       "0           0             0              0              1              0   \n",
       "1           0             0              0              1              0   \n",
       "2           0             0              0              1              0   \n",
       "3           0             0              0              1              0   \n",
       "4           0             0              0              1              0   \n",
       "\n",
       "   countrycode_d  countrycode_e  countrycode_f  \n",
       "0              0              0              0  \n",
       "1              0              0              0  \n",
       "2              0              0              0  \n",
       "3              0              0              0  \n",
       "4              0              0              0  \n",
       "\n",
       "[5 rows x 33 columns]"
      ]
     },
     "execution_count": 17,
     "metadata": {},
     "output_type": "execute_result"
    }
   ],
   "source": [
    "test.head()"
   ]
  },
  {
   "cell_type": "code",
   "execution_count": 18,
   "metadata": {
    "collapsed": true
   },
   "outputs": [],
   "source": [
    "\n",
    "# Label Encoding\n",
    "from sklearn.preprocessing import LabelEncoder\n",
    "for c in list(train.select_dtypes(include=['object']).columns):\n",
    "    if c != 'ID':\n",
    "        lbl = LabelEncoder()\n",
    "        lbl.fit(list(train[c].values) + list(test[c].values))\n",
    "        train[c] = lbl.transform(list(train[c].values))\n",
    "        test[c] = lbl.transform(list(test[c].values))"
   ]
  },
  {
   "cell_type": "code",
   "execution_count": 19,
   "metadata": {},
   "outputs": [
    {
     "name": "stdout",
     "output_type": "stream",
     "text": [
      "(12137810, 34)\n"
     ]
    }
   ],
   "source": [
    "\n",
    "# sample 10% data - to avoid memory troubles\n",
    "# if you have access to large machines, you can use more data for training\n",
    "\n",
    "#train = train.sample()\n",
    "print (train.shape)"
   ]
  },
  {
   "cell_type": "code",
   "execution_count": 20,
   "metadata": {
    "collapsed": true
   },
   "outputs": [],
   "source": [
    "# select columns to choose\n",
    "cols_to_use = [x for x in train.columns if x not in list(['ID','datetime','click'])]"
   ]
  },
  {
   "cell_type": "code",
   "execution_count": 21,
   "metadata": {
    "collapsed": true
   },
   "outputs": [],
   "source": [
    "\n",
    "# standarise data before training\n",
    "scaler = StandardScaler().fit(train[cols_to_use])\n",
    "\n",
    "strain = scaler.transform(train[cols_to_use])\n",
    "stest = scaler.transform(test[cols_to_use])"
   ]
  },
  {
   "cell_type": "code",
   "execution_count": 29,
   "metadata": {
    "collapsed": true
   },
   "outputs": [],
   "source": [
    "# train validation split\n",
    "X_train, X_valid, Y_train, Y_valid = train_test_split(strain, train.click, test_size = 0.3, random_state=2017)"
   ]
  },
  {
   "cell_type": "code",
   "execution_count": 30,
   "metadata": {},
   "outputs": [
    {
     "name": "stdout",
     "output_type": "stream",
     "text": [
      "(8496467, 31)\n",
      "(3641343, 31)\n",
      "(8496467,)\n",
      "(3641343,)\n"
     ]
    }
   ],
   "source": [
    "print (X_train.shape)\n",
    "print (X_valid.shape)\n",
    "print (Y_train.shape)\n",
    "print (Y_valid.shape)"
   ]
  },
  {
   "cell_type": "code",
   "execution_count": 31,
   "metadata": {
    "collapsed": true
   },
   "outputs": [],
   "source": [
    "# model architechture\n",
    "def keras_model(train):\n",
    "    \n",
    "    input_dim = train.shape[1]\n",
    "    classes = 2\n",
    "    \n",
    "    model = Sequential()\n",
    "    model.add(Dense(300, activation = 'relu', input_shape = (input_dim,)))\n",
    "    model.add(Dense(100, activation = 'relu'))\n",
    "    model.add(Dense(30, activation = 'relu'))\n",
    "    model.add(Dense(classes, activation = 'softmax'))\n",
    "    model.compile(optimizer = 'adam', loss='binary_crossentropy',metrics = ['accuracy','binary_accuracy'])\n",
    "    return model\n",
    "\n",
    "callback = EarlyStopping(monitor='val_acc',patience=3)"
   ]
  },
  {
   "cell_type": "code",
   "execution_count": 32,
   "metadata": {
    "collapsed": true
   },
   "outputs": [],
   "source": [
    "# one hot target columns\n",
    "Y_train = to_categorical(Y_train)\n",
    "Y_valid = to_categorical(Y_valid)"
   ]
  },
  {
   "cell_type": "code",
   "execution_count": 33,
   "metadata": {},
   "outputs": [
    {
     "name": "stdout",
     "output_type": "stream",
     "text": [
      "Train on 8496467 samples, validate on 3641343 samples\n",
      "Epoch 1/100\n",
      "8496467/8496467 [==============================] - 19s - loss: 0.0672 - acc: 0.9766 - binary_accuracy: 0.9766 - val_loss: 0.0646 - val_acc: 0.9772 - val_binary_accuracy: 0.9772\n",
      "Epoch 2/100\n",
      "8496467/8496467 [==============================] - 18s - loss: 0.0639 - acc: 0.9775 - binary_accuracy: 0.9775 - val_loss: 0.0631 - val_acc: 0.9778 - val_binary_accuracy: 0.9778\n",
      "Epoch 3/100\n",
      "8496467/8496467 [==============================] - 19s - loss: 0.0618 - acc: 0.9785 - binary_accuracy: 0.9785 - val_loss: 0.0609 - val_acc: 0.9791 - val_binary_accuracy: 0.9791\n",
      "Epoch 4/100\n",
      "8496467/8496467 [==============================] - 19s - loss: 0.0599 - acc: 0.9792 - binary_accuracy: 0.9792 - val_loss: 0.0589 - val_acc: 0.9797 - val_binary_accuracy: 0.9797\n",
      "Epoch 5/100\n",
      "8496467/8496467 [==============================] - 19s - loss: 0.0588 - acc: 0.9797 - binary_accuracy: 0.9797 - val_loss: 0.0601 - val_acc: 0.9796 - val_binary_accuracy: 0.9796\n",
      "Epoch 6/100\n",
      "8496467/8496467 [==============================] - 18s - loss: 0.0580 - acc: 0.9800 - binary_accuracy: 0.9800 - val_loss: 0.0584 - val_acc: 0.9802 - val_binary_accuracy: 0.9802\n",
      "Epoch 7/100\n",
      "8496467/8496467 [==============================] - 18s - loss: 0.0573 - acc: 0.9802 - binary_accuracy: 0.9802 - val_loss: 0.0573 - val_acc: 0.9801 - val_binary_accuracy: 0.9801\n",
      "Epoch 8/100\n",
      "8496467/8496467 [==============================] - 18s - loss: 0.0568 - acc: 0.9804 - binary_accuracy: 0.9804 - val_loss: 0.0565 - val_acc: 0.9806 - val_binary_accuracy: 0.9806\n",
      "Epoch 9/100\n",
      "8496467/8496467 [==============================] - 19s - loss: 0.0563 - acc: 0.9806 - binary_accuracy: 0.9806 - val_loss: 0.0568 - val_acc: 0.9805 - val_binary_accuracy: 0.9805\n",
      "Epoch 10/100\n",
      "8496467/8496467 [==============================] - 19s - loss: 0.0561 - acc: 0.9806 - binary_accuracy: 0.9806 - val_loss: 0.0559 - val_acc: 0.9808 - val_binary_accuracy: 0.9808\n",
      "Epoch 11/100\n",
      "8496467/8496467 [==============================] - 19s - loss: 0.0557 - acc: 0.9807 - binary_accuracy: 0.9807 - val_loss: 0.0561 - val_acc: 0.9806 - val_binary_accuracy: 0.9806\n",
      "Epoch 12/100\n",
      "8496467/8496467 [==============================] - 19s - loss: 0.0554 - acc: 0.9808 - binary_accuracy: 0.9808 - val_loss: 0.0561 - val_acc: 0.9806 - val_binary_accuracy: 0.9806\n",
      "Epoch 13/100\n",
      "8496467/8496467 [==============================] - 19s - loss: 0.0551 - acc: 0.9809 - binary_accuracy: 0.9809 - val_loss: 0.0559 - val_acc: 0.9805 - val_binary_accuracy: 0.9805\n",
      "Epoch 14/100\n",
      "8496467/8496467 [==============================] - 18s - loss: 0.0549 - acc: 0.9809 - binary_accuracy: 0.9809 - val_loss: 0.0546 - val_acc: 0.9810 - val_binary_accuracy: 0.9810\n",
      "Epoch 15/100\n",
      "8496467/8496467 [==============================] - 18s - loss: 0.0548 - acc: 0.9810 - binary_accuracy: 0.9810 - val_loss: 0.0564 - val_acc: 0.9803 - val_binary_accuracy: 0.9803\n",
      "Epoch 16/100\n",
      "8496467/8496467 [==============================] - 18s - loss: 0.0546 - acc: 0.9811 - binary_accuracy: 0.9811 - val_loss: 0.0555 - val_acc: 0.9809 - val_binary_accuracy: 0.9809\n",
      "Epoch 17/100\n",
      "8496467/8496467 [==============================] - 18s - loss: 0.0545 - acc: 0.9811 - binary_accuracy: 0.9811 - val_loss: 0.0548 - val_acc: 0.9809 - val_binary_accuracy: 0.9809\n",
      "Epoch 18/100\n",
      "8496467/8496467 [==============================] - 18s - loss: 0.0543 - acc: 0.9812 - binary_accuracy: 0.9812 - val_loss: 0.0547 - val_acc: 0.9811 - val_binary_accuracy: 0.9811\n",
      "Epoch 19/100\n",
      "8496467/8496467 [==============================] - 18s - loss: 0.0541 - acc: 0.9813 - binary_accuracy: 0.9813 - val_loss: 0.0546 - val_acc: 0.9810 - val_binary_accuracy: 0.9810\n",
      "Epoch 20/100\n",
      "8496467/8496467 [==============================] - 19s - loss: 0.0540 - acc: 0.9812 - binary_accuracy: 0.9812 - val_loss: 0.0549 - val_acc: 0.9808 - val_binary_accuracy: 0.9808\n",
      "Epoch 21/100\n",
      "8496467/8496467 [==============================] - 19s - loss: 0.0538 - acc: 0.9813 - binary_accuracy: 0.9813 - val_loss: 0.0544 - val_acc: 0.9811 - val_binary_accuracy: 0.9811\n",
      "Epoch 22/100\n",
      "8496467/8496467 [==============================] - 19s - loss: 0.0537 - acc: 0.9813 - binary_accuracy: 0.9813 - val_loss: 0.0546 - val_acc: 0.9811 - val_binary_accuracy: 0.9811\n",
      "Epoch 23/100\n",
      "8496467/8496467 [==============================] - 19s - loss: 0.0536 - acc: 0.9814 - binary_accuracy: 0.9814 - val_loss: 0.0542 - val_acc: 0.9815 - val_binary_accuracy: 0.9815\n",
      "Epoch 24/100\n",
      "8496467/8496467 [==============================] - 20s - loss: 0.0534 - acc: 0.9815 - binary_accuracy: 0.9815 - val_loss: 0.0536 - val_acc: 0.9814 - val_binary_accuracy: 0.9814\n",
      "Epoch 25/100\n",
      "8496467/8496467 [==============================] - 20s - loss: 0.0533 - acc: 0.9815 - binary_accuracy: 0.9815 - val_loss: 0.0533 - val_acc: 0.9816 - val_binary_accuracy: 0.9816\n",
      "Epoch 26/100\n",
      "8496467/8496467 [==============================] - 18s - loss: 0.0531 - acc: 0.9815 - binary_accuracy: 0.9815 - val_loss: 0.0542 - val_acc: 0.9813 - val_binary_accuracy: 0.9813\n",
      "Epoch 27/100\n",
      "8496467/8496467 [==============================] - 17s - loss: 0.0531 - acc: 0.9815 - binary_accuracy: 0.9815 - val_loss: 0.0557 - val_acc: 0.9807 - val_binary_accuracy: 0.9807\n",
      "Epoch 28/100\n",
      "8496467/8496467 [==============================] - 17s - loss: 0.0530 - acc: 0.9816 - binary_accuracy: 0.9816 - val_loss: 0.0543 - val_acc: 0.9813 - val_binary_accuracy: 0.9813\n",
      "Epoch 29/100\n",
      "8496467/8496467 [==============================] - 17s - loss: 0.0529 - acc: 0.9816 - binary_accuracy: 0.9816 - val_loss: 0.0544 - val_acc: 0.9812 - val_binary_accuracy: 0.9812\n"
     ]
    },
    {
     "data": {
      "text/plain": [
       "<keras.callbacks.History at 0x7f94d9c65650>"
      ]
     },
     "execution_count": 33,
     "metadata": {},
     "output_type": "execute_result"
    }
   ],
   "source": [
    "# train model\n",
    "model = keras_model(X_train)\n",
    "model.fit(X_train, Y_train, 4000, 100, callbacks=[callback],validation_data=(X_valid, Y_valid),shuffle=True)"
   ]
  },
  {
   "cell_type": "code",
   "execution_count": 34,
   "metadata": {
    "collapsed": true
   },
   "outputs": [],
   "source": [
    "#from keras.utils import plot_model\n",
    "#plot_model(model, to_file='model.png')"
   ]
  },
  {
   "cell_type": "code",
   "execution_count": 35,
   "metadata": {},
   "outputs": [
    {
     "name": "stdout",
     "output_type": "stream",
     "text": [
      "3641216/3641343 [============================>.] - ETA: 0s"
     ]
    },
    {
     "data": {
      "text/plain": [
       "0.97711232483557764"
      ]
     },
     "execution_count": 35,
     "metadata": {},
     "output_type": "execute_result"
    }
   ],
   "source": [
    "# check validation accuracy\n",
    "vpreds = model.predict_proba(X_valid)[:,1]\n",
    "from sklearn.metrics import roc_auc_score\n",
    "roc_auc_score(y_true = Y_valid[:,1], y_score=vpreds)"
   ]
  },
  {
   "cell_type": "code",
   "execution_count": 36,
   "metadata": {},
   "outputs": [
    {
     "name": "stdout",
     "output_type": "stream",
     "text": [
      "3705824/3706907 [============================>.] - ETA: 0s"
     ]
    }
   ],
   "source": [
    "# predict on test data\n",
    "test_preds = model.predict_proba(stest)[:,1]"
   ]
  },
  {
   "cell_type": "code",
   "execution_count": 37,
   "metadata": {
    "collapsed": true
   },
   "outputs": [],
   "source": [
    "# create submission file\n",
    "submit = pd.DataFrame({'ID':test.ID, 'click':test_preds})\n",
    "submit.to_csv('Submission/Keras_sub_new_new1.csv', index=False)"
   ]
  },
  {
   "cell_type": "code",
   "execution_count": null,
   "metadata": {},
   "outputs": [],
   "source": [
    "from xgboost import XGBClassifier"
   ]
  },
  {
   "cell_type": "code",
   "execution_count": null,
   "metadata": {},
   "outputs": [],
   "source": [
    "test.head()"
   ]
  },
  {
   "cell_type": "code",
   "execution_count": null,
   "metadata": {},
   "outputs": [],
   "source": [
    "import gc\n",
    "del X_valid\n",
    "del Y_valid\n",
    "del X_train\n",
    "del Y_train\n",
    "#del test\n",
    "#del model\n",
    "del submit\n",
    "#del \n",
    "gc.collect()"
   ]
  },
  {
   "cell_type": "code",
   "execution_count": null,
   "metadata": {
    "collapsed": true
   },
   "outputs": [],
   "source": [
    "XGB_model = XGBClassifier()"
   ]
  },
  {
   "cell_type": "code",
   "execution_count": null,
   "metadata": {},
   "outputs": [],
   "source": [
    "XGB_model.fit(strain, train.click)"
   ]
  },
  {
   "cell_type": "code",
   "execution_count": null,
   "metadata": {
    "collapsed": true
   },
   "outputs": [],
   "source": [
    "test_preds2 = XGB_model.predict_proba(stest)[:,1]"
   ]
  },
  {
   "cell_type": "code",
   "execution_count": null,
   "metadata": {},
   "outputs": [],
   "source": [
    "from xgboost import plot_importance\n",
    "import matplotlib.pyplot as plt\n",
    "plot_importance(XGB_model)\n",
    "plt.show()"
   ]
  },
  {
   "cell_type": "code",
   "execution_count": null,
   "metadata": {},
   "outputs": [],
   "source": [
    "test_preds2[1]"
   ]
  },
  {
   "cell_type": "code",
   "execution_count": null,
   "metadata": {},
   "outputs": [],
   "source": [
    "test_preds2[2]"
   ]
  },
  {
   "cell_type": "code",
   "execution_count": null,
   "metadata": {
    "collapsed": true
   },
   "outputs": [],
   "source": [
    "test = pd.read_csv('DATASET/test.csv')"
   ]
  },
  {
   "cell_type": "code",
   "execution_count": null,
   "metadata": {
    "collapsed": true
   },
   "outputs": [],
   "source": [
    "submitXGB = pd.DataFrame({'ID':test.ID, 'click':test_preds2})\n",
    "submitXGB.to_csv('Submission/XGB2new2.csv', index=False)"
   ]
  },
  {
   "cell_type": "code",
   "execution_count": null,
   "metadata": {
    "collapsed": true
   },
   "outputs": [],
   "source": [
    "test_pred_ensemble = (test_preds2 + test_preds)/2.0\n",
    "submitE = pd.DataFrame({'ID':test.ID, 'click':test_pred_ensemble})\n",
    "submitE.to_csv('Submission/ENSEMBLE2new2.csv', index=False)"
   ]
  },
  {
   "cell_type": "code",
   "execution_count": null,
   "metadata": {
    "collapsed": true
   },
   "outputs": [],
   "source": [
    "#X_train.shape"
   ]
  },
  {
   "cell_type": "code",
   "execution_count": null,
   "metadata": {},
   "outputs": [],
   "source": [
    "vpreds.shape"
   ]
  },
  {
   "cell_type": "code",
   "execution_count": null,
   "metadata": {
    "collapsed": true
   },
   "outputs": [],
   "source": [
    "Y_train_pred = model.predict(strain)[:,1]"
   ]
  },
  {
   "cell_type": "code",
   "execution_count": null,
   "metadata": {},
   "outputs": [],
   "source": [
    "roc_auc_score(train.click,Y_train_pred)"
   ]
  },
  {
   "cell_type": "code",
   "execution_count": null,
   "metadata": {},
   "outputs": [],
   "source": [
    "strain.shape"
   ]
  },
  {
   "cell_type": "code",
   "execution_count": null,
   "metadata": {},
   "outputs": [],
   "source": [
    "Y_train_pred.shape"
   ]
  },
  {
   "cell_type": "code",
   "execution_count": null,
   "metadata": {
    "collapsed": true
   },
   "outputs": [],
   "source": [
    "Data_l1 = pd.DataFrame(data=strain)"
   ]
  },
  {
   "cell_type": "code",
   "execution_count": null,
   "metadata": {
    "collapsed": true
   },
   "outputs": [],
   "source": [
    "Data_l1[\"Y_pred\"]=Y_train_pred"
   ]
  },
  {
   "cell_type": "code",
   "execution_count": null,
   "metadata": {},
   "outputs": [],
   "source": [
    "Data_l1.shape"
   ]
  },
  {
   "cell_type": "code",
   "execution_count": null,
   "metadata": {
    "collapsed": true
   },
   "outputs": [],
   "source": [
    "Test_l1 = pd.DataFrame(data=stest)"
   ]
  },
  {
   "cell_type": "code",
   "execution_count": null,
   "metadata": {
    "collapsed": true
   },
   "outputs": [],
   "source": [
    "Test_l1[\"Y_pred\"] = test_preds"
   ]
  },
  {
   "cell_type": "code",
   "execution_count": null,
   "metadata": {
    "collapsed": true
   },
   "outputs": [],
   "source": [
    "XGB_model_L2 = XGBClassifier()\n",
    "XGB_model_L2.fit(Data_l1, train.click)"
   ]
  },
  {
   "cell_type": "code",
   "execution_count": null,
   "metadata": {
    "collapsed": true
   },
   "outputs": [],
   "source": [
    "test_preds_L2 = XGB_model_L2.predict_proba(Test_l1)[:,1]"
   ]
  },
  {
   "cell_type": "code",
   "execution_count": null,
   "metadata": {
    "collapsed": true
   },
   "outputs": [],
   "source": [
    "submitXGB_l2 = pd.DataFrame({'ID':test.ID, 'click':test_preds_L2})\n",
    "#submitXGB_l2.to_csv('Submission/XGB_L2_2.csv', index=False)"
   ]
  },
  {
   "cell_type": "code",
   "execution_count": null,
   "metadata": {
    "collapsed": true
   },
   "outputs": [],
   "source": [
    "test_preds_L2[1]"
   ]
  },
  {
   "cell_type": "code",
   "execution_count": null,
   "metadata": {
    "collapsed": true
   },
   "outputs": [],
   "source": [
    "from xgboost import plot_importance\n",
    "import matplotlib.pyplot as plt\n",
    "plot_importance(XGB_model_L2)\n",
    "plt.show()"
   ]
  }
 ],
 "metadata": {
  "kernelspec": {
   "display_name": "Python 2",
   "language": "python",
   "name": "python2"
  },
  "language_info": {
   "codemirror_mode": {
    "name": "ipython",
    "version": 2
   },
   "file_extension": ".py",
   "mimetype": "text/x-python",
   "name": "python",
   "nbconvert_exporter": "python",
   "pygments_lexer": "ipython2",
   "version": "2.7.13"
  }
 },
 "nbformat": 4,
 "nbformat_minor": 2
}
