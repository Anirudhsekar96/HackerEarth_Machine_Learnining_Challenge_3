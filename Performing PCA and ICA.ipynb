{
 "cells": [
  {
   "cell_type": "code",
   "execution_count": 1,
   "metadata": {
    "collapsed": true
   },
   "outputs": [],
   "source": [
    "import pandas as pd\n",
    "import numpy as np"
   ]
  },
  {
   "cell_type": "code",
   "execution_count": 3,
   "metadata": {},
   "outputs": [],
   "source": [
    "strain = pd.read_csv(\"train_new1.csv\")"
   ]
  },
  {
   "cell_type": "code",
   "execution_count": 4,
   "metadata": {},
   "outputs": [
    {
     "data": {
      "text/html": [
       "<div>\n",
       "<style>\n",
       "    .dataframe thead tr:only-child th {\n",
       "        text-align: right;\n",
       "    }\n",
       "\n",
       "    .dataframe thead th {\n",
       "        text-align: left;\n",
       "    }\n",
       "\n",
       "    .dataframe tbody tr th {\n",
       "        vertical-align: top;\n",
       "    }\n",
       "</style>\n",
       "<table border=\"1\" class=\"dataframe\">\n",
       "  <thead>\n",
       "    <tr style=\"text-align: right;\">\n",
       "      <th></th>\n",
       "      <th>0</th>\n",
       "      <th>1</th>\n",
       "      <th>2</th>\n",
       "      <th>3</th>\n",
       "      <th>4</th>\n",
       "      <th>5</th>\n",
       "      <th>6</th>\n",
       "      <th>7</th>\n",
       "      <th>8</th>\n",
       "      <th>9</th>\n",
       "      <th>10</th>\n",
       "      <th>11</th>\n",
       "      <th>12</th>\n",
       "      <th>13</th>\n",
       "      <th>14</th>\n",
       "      <th>15</th>\n",
       "    </tr>\n",
       "  </thead>\n",
       "  <tbody>\n",
       "    <tr>\n",
       "      <th>0</th>\n",
       "      <td>-0.582900</td>\n",
       "      <td>0.294811</td>\n",
       "      <td>-0.288634</td>\n",
       "      <td>-1.207754</td>\n",
       "      <td>2.088659</td>\n",
       "      <td>-0.875979</td>\n",
       "      <td>0.464452</td>\n",
       "      <td>-0.497802</td>\n",
       "      <td>-0.672278</td>\n",
       "      <td>-0.990983</td>\n",
       "      <td>0.0</td>\n",
       "      <td>0.0</td>\n",
       "      <td>1.000009</td>\n",
       "      <td>-0.084778</td>\n",
       "      <td>-0.187002</td>\n",
       "      <td>-0.134671</td>\n",
       "    </tr>\n",
       "    <tr>\n",
       "      <th>1</th>\n",
       "      <td>-0.183471</td>\n",
       "      <td>0.865558</td>\n",
       "      <td>-0.015147</td>\n",
       "      <td>0.886381</td>\n",
       "      <td>-0.389992</td>\n",
       "      <td>-0.875979</td>\n",
       "      <td>1.346819</td>\n",
       "      <td>0.079258</td>\n",
       "      <td>-0.157529</td>\n",
       "      <td>1.497390</td>\n",
       "      <td>0.0</td>\n",
       "      <td>0.0</td>\n",
       "      <td>-0.942941</td>\n",
       "      <td>-0.008344</td>\n",
       "      <td>-0.246716</td>\n",
       "      <td>-0.198218</td>\n",
       "    </tr>\n",
       "    <tr>\n",
       "      <th>2</th>\n",
       "      <td>-0.858047</td>\n",
       "      <td>-0.567461</td>\n",
       "      <td>-0.061485</td>\n",
       "      <td>-0.190753</td>\n",
       "      <td>-1.009654</td>\n",
       "      <td>-0.875979</td>\n",
       "      <td>1.346819</td>\n",
       "      <td>1.810438</td>\n",
       "      <td>0.614593</td>\n",
       "      <td>0.745091</td>\n",
       "      <td>0.0</td>\n",
       "      <td>0.0</td>\n",
       "      <td>0.028534</td>\n",
       "      <td>0.086075</td>\n",
       "      <td>-0.201831</td>\n",
       "      <td>-0.166624</td>\n",
       "    </tr>\n",
       "    <tr>\n",
       "      <th>3</th>\n",
       "      <td>0.306841</td>\n",
       "      <td>0.501839</td>\n",
       "      <td>-1.027639</td>\n",
       "      <td>1.732895</td>\n",
       "      <td>-0.389992</td>\n",
       "      <td>0.843281</td>\n",
       "      <td>-1.300282</td>\n",
       "      <td>-1.651922</td>\n",
       "      <td>-0.929652</td>\n",
       "      <td>-0.412292</td>\n",
       "      <td>0.0</td>\n",
       "      <td>0.0</td>\n",
       "      <td>0.352359</td>\n",
       "      <td>0.009641</td>\n",
       "      <td>-0.223427</td>\n",
       "      <td>-0.262483</td>\n",
       "    </tr>\n",
       "    <tr>\n",
       "      <th>4</th>\n",
       "      <td>-1.440231</td>\n",
       "      <td>-0.874052</td>\n",
       "      <td>1.380458</td>\n",
       "      <td>-0.360819</td>\n",
       "      <td>1.468996</td>\n",
       "      <td>-0.875979</td>\n",
       "      <td>1.346819</td>\n",
       "      <td>-0.497802</td>\n",
       "      <td>-1.187027</td>\n",
       "      <td>-0.065077</td>\n",
       "      <td>0.0</td>\n",
       "      <td>0.0</td>\n",
       "      <td>1.000009</td>\n",
       "      <td>-0.098266</td>\n",
       "      <td>2.725420</td>\n",
       "      <td>1.442339</td>\n",
       "    </tr>\n",
       "  </tbody>\n",
       "</table>\n",
       "</div>"
      ],
      "text/plain": [
       "          0         1         2         3         4         5         6  \\\n",
       "0 -0.582900  0.294811 -0.288634 -1.207754  2.088659 -0.875979  0.464452   \n",
       "1 -0.183471  0.865558 -0.015147  0.886381 -0.389992 -0.875979  1.346819   \n",
       "2 -0.858047 -0.567461 -0.061485 -0.190753 -1.009654 -0.875979  1.346819   \n",
       "3  0.306841  0.501839 -1.027639  1.732895 -0.389992  0.843281 -1.300282   \n",
       "4 -1.440231 -0.874052  1.380458 -0.360819  1.468996 -0.875979  1.346819   \n",
       "\n",
       "          7         8         9   10   11        12        13        14  \\\n",
       "0 -0.497802 -0.672278 -0.990983  0.0  0.0  1.000009 -0.084778 -0.187002   \n",
       "1  0.079258 -0.157529  1.497390  0.0  0.0 -0.942941 -0.008344 -0.246716   \n",
       "2  1.810438  0.614593  0.745091  0.0  0.0  0.028534  0.086075 -0.201831   \n",
       "3 -1.651922 -0.929652 -0.412292  0.0  0.0  0.352359  0.009641 -0.223427   \n",
       "4 -0.497802 -1.187027 -0.065077  0.0  0.0  1.000009 -0.098266  2.725420   \n",
       "\n",
       "         15  \n",
       "0 -0.134671  \n",
       "1 -0.198218  \n",
       "2 -0.166624  \n",
       "3 -0.262483  \n",
       "4  1.442339  "
      ]
     },
     "execution_count": 4,
     "metadata": {},
     "output_type": "execute_result"
    }
   ],
   "source": [
    "strain.head()"
   ]
  },
  {
   "cell_type": "code",
   "execution_count": 5,
   "metadata": {
    "collapsed": true
   },
   "outputs": [],
   "source": [
    "strain = strain.values"
   ]
  },
  {
   "cell_type": "code",
   "execution_count": 6,
   "metadata": {
    "collapsed": true
   },
   "outputs": [],
   "source": [
    "stest = pd.read_csv(\"test_new1.csv\")"
   ]
  },
  {
   "cell_type": "code",
   "execution_count": 7,
   "metadata": {},
   "outputs": [
    {
     "data": {
      "text/html": [
       "<div>\n",
       "<style>\n",
       "    .dataframe thead tr:only-child th {\n",
       "        text-align: right;\n",
       "    }\n",
       "\n",
       "    .dataframe thead th {\n",
       "        text-align: left;\n",
       "    }\n",
       "\n",
       "    .dataframe tbody tr th {\n",
       "        vertical-align: top;\n",
       "    }\n",
       "</style>\n",
       "<table border=\"1\" class=\"dataframe\">\n",
       "  <thead>\n",
       "    <tr style=\"text-align: right;\">\n",
       "      <th></th>\n",
       "      <th>0</th>\n",
       "      <th>1</th>\n",
       "      <th>2</th>\n",
       "      <th>3</th>\n",
       "      <th>4</th>\n",
       "      <th>5</th>\n",
       "      <th>6</th>\n",
       "      <th>7</th>\n",
       "      <th>8</th>\n",
       "      <th>9</th>\n",
       "      <th>10</th>\n",
       "      <th>11</th>\n",
       "      <th>12</th>\n",
       "      <th>13</th>\n",
       "      <th>14</th>\n",
       "      <th>15</th>\n",
       "    </tr>\n",
       "  </thead>\n",
       "  <tbody>\n",
       "    <tr>\n",
       "      <th>0</th>\n",
       "      <td>-1.199308</td>\n",
       "      <td>1.077950</td>\n",
       "      <td>-0.828422</td>\n",
       "      <td>-0.775691</td>\n",
       "      <td>-0.389992</td>\n",
       "      <td>1.530985</td>\n",
       "      <td>-1.300282</td>\n",
       "      <td>1.810438</td>\n",
       "      <td>-0.929652</td>\n",
       "      <td>1.439521</td>\n",
       "      <td>0.0</td>\n",
       "      <td>0.0</td>\n",
       "      <td>2.295308</td>\n",
       "      <td>-0.107259</td>\n",
       "      <td>-0.258758</td>\n",
       "      <td>-0.264817</td>\n",
       "    </tr>\n",
       "    <tr>\n",
       "      <th>1</th>\n",
       "      <td>-1.199308</td>\n",
       "      <td>1.029596</td>\n",
       "      <td>-0.828422</td>\n",
       "      <td>-0.775691</td>\n",
       "      <td>2.088659</td>\n",
       "      <td>1.530985</td>\n",
       "      <td>-1.300282</td>\n",
       "      <td>1.810438</td>\n",
       "      <td>-0.929652</td>\n",
       "      <td>1.439521</td>\n",
       "      <td>0.0</td>\n",
       "      <td>0.0</td>\n",
       "      <td>2.295308</td>\n",
       "      <td>-0.107259</td>\n",
       "      <td>-0.258758</td>\n",
       "      <td>-0.264817</td>\n",
       "    </tr>\n",
       "    <tr>\n",
       "      <th>2</th>\n",
       "      <td>-1.199308</td>\n",
       "      <td>1.264087</td>\n",
       "      <td>-0.828422</td>\n",
       "      <td>-0.775691</td>\n",
       "      <td>-1.009654</td>\n",
       "      <td>-0.875979</td>\n",
       "      <td>1.346819</td>\n",
       "      <td>1.810438</td>\n",
       "      <td>-0.929652</td>\n",
       "      <td>1.439521</td>\n",
       "      <td>0.0</td>\n",
       "      <td>0.0</td>\n",
       "      <td>2.295308</td>\n",
       "      <td>-0.107259</td>\n",
       "      <td>-0.258758</td>\n",
       "      <td>-0.264817</td>\n",
       "    </tr>\n",
       "    <tr>\n",
       "      <th>3</th>\n",
       "      <td>-1.199308</td>\n",
       "      <td>1.226581</td>\n",
       "      <td>-0.828422</td>\n",
       "      <td>-0.775691</td>\n",
       "      <td>-1.009654</td>\n",
       "      <td>1.187133</td>\n",
       "      <td>-1.300282</td>\n",
       "      <td>1.810438</td>\n",
       "      <td>-0.929652</td>\n",
       "      <td>1.439521</td>\n",
       "      <td>0.0</td>\n",
       "      <td>0.0</td>\n",
       "      <td>2.295308</td>\n",
       "      <td>-0.107259</td>\n",
       "      <td>-0.258758</td>\n",
       "      <td>-0.264817</td>\n",
       "    </tr>\n",
       "    <tr>\n",
       "      <th>4</th>\n",
       "      <td>-1.199308</td>\n",
       "      <td>-0.819168</td>\n",
       "      <td>-0.828422</td>\n",
       "      <td>-0.775691</td>\n",
       "      <td>1.468996</td>\n",
       "      <td>-0.188275</td>\n",
       "      <td>-0.417915</td>\n",
       "      <td>1.810438</td>\n",
       "      <td>-0.929652</td>\n",
       "      <td>1.439521</td>\n",
       "      <td>0.0</td>\n",
       "      <td>0.0</td>\n",
       "      <td>2.295308</td>\n",
       "      <td>-0.107259</td>\n",
       "      <td>-0.258758</td>\n",
       "      <td>-0.264817</td>\n",
       "    </tr>\n",
       "  </tbody>\n",
       "</table>\n",
       "</div>"
      ],
      "text/plain": [
       "          0         1         2         3         4         5         6  \\\n",
       "0 -1.199308  1.077950 -0.828422 -0.775691 -0.389992  1.530985 -1.300282   \n",
       "1 -1.199308  1.029596 -0.828422 -0.775691  2.088659  1.530985 -1.300282   \n",
       "2 -1.199308  1.264087 -0.828422 -0.775691 -1.009654 -0.875979  1.346819   \n",
       "3 -1.199308  1.226581 -0.828422 -0.775691 -1.009654  1.187133 -1.300282   \n",
       "4 -1.199308 -0.819168 -0.828422 -0.775691  1.468996 -0.188275 -0.417915   \n",
       "\n",
       "          7         8         9   10   11        12        13        14  \\\n",
       "0  1.810438 -0.929652  1.439521  0.0  0.0  2.295308 -0.107259 -0.258758   \n",
       "1  1.810438 -0.929652  1.439521  0.0  0.0  2.295308 -0.107259 -0.258758   \n",
       "2  1.810438 -0.929652  1.439521  0.0  0.0  2.295308 -0.107259 -0.258758   \n",
       "3  1.810438 -0.929652  1.439521  0.0  0.0  2.295308 -0.107259 -0.258758   \n",
       "4  1.810438 -0.929652  1.439521  0.0  0.0  2.295308 -0.107259 -0.258758   \n",
       "\n",
       "         15  \n",
       "0 -0.264817  \n",
       "1 -0.264817  \n",
       "2 -0.264817  \n",
       "3 -0.264817  \n",
       "4 -0.264817  "
      ]
     },
     "execution_count": 7,
     "metadata": {},
     "output_type": "execute_result"
    }
   ],
   "source": [
    "stest.head()"
   ]
  },
  {
   "cell_type": "code",
   "execution_count": 8,
   "metadata": {
    "collapsed": true
   },
   "outputs": [],
   "source": [
    "stest=stest.values"
   ]
  },
  {
   "cell_type": "code",
   "execution_count": 9,
   "metadata": {},
   "outputs": [
    {
     "name": "stderr",
     "output_type": "stream",
     "text": [
      "/home/anirudh/anaconda/lib/python2.7/site-packages/sklearn/decomposition/fastica_.py:116: UserWarning: FastICA did not converge. Consider increasing tolerance or the maximum number of iterations.\n",
      "  warnings.warn('FastICA did not converge. Consider increasing '\n"
     ]
    }
   ],
   "source": [
    "from sklearn.decomposition import PCA,FastICA\n",
    "\n",
    "\n",
    "pca = PCA(random_state=42)\n",
    "strain_pca = pca.fit_transform(strain)\n",
    "stest_pca = pca.transform(stest)\n",
    "\n",
    "ica = FastICA(random_state=42)\n",
    "strain_ica = ica.fit_transform(strain)\n",
    "stest_ica = ica.transform(stest)"
   ]
  },
  {
   "cell_type": "code",
   "execution_count": 10,
   "metadata": {},
   "outputs": [
    {
     "data": {
      "text/plain": [
       "(12137810, 16)"
      ]
     },
     "execution_count": 10,
     "metadata": {},
     "output_type": "execute_result"
    }
   ],
   "source": [
    "strain_pca.shape"
   ]
  },
  {
   "cell_type": "code",
   "execution_count": 11,
   "metadata": {},
   "outputs": [
    {
     "data": {
      "text/plain": [
       "(12137810, 16)"
      ]
     },
     "execution_count": 11,
     "metadata": {},
     "output_type": "execute_result"
    }
   ],
   "source": [
    "strain.shape"
   ]
  },
  {
   "cell_type": "code",
   "execution_count": 12,
   "metadata": {
    "collapsed": true
   },
   "outputs": [],
   "source": [
    "train = np.concatenate((strain,strain_pca), axis=1)"
   ]
  },
  {
   "cell_type": "code",
   "execution_count": 13,
   "metadata": {},
   "outputs": [
    {
     "data": {
      "text/plain": [
       "(12137810, 32)"
      ]
     },
     "execution_count": 13,
     "metadata": {},
     "output_type": "execute_result"
    }
   ],
   "source": [
    "train.shape"
   ]
  },
  {
   "cell_type": "code",
   "execution_count": 14,
   "metadata": {
    "collapsed": true
   },
   "outputs": [],
   "source": [
    "train = np.concatenate((train,strain_ica),axis=1)"
   ]
  },
  {
   "cell_type": "code",
   "execution_count": 15,
   "metadata": {},
   "outputs": [
    {
     "data": {
      "text/plain": [
       "(12137810, 48)"
      ]
     },
     "execution_count": 15,
     "metadata": {},
     "output_type": "execute_result"
    }
   ],
   "source": [
    "train.shape"
   ]
  },
  {
   "cell_type": "code",
   "execution_count": 16,
   "metadata": {},
   "outputs": [
    {
     "data": {
      "text/plain": [
       "array([ -1.83471200e-01,   8.65557831e-01,  -1.51470080e-02,\n",
       "         8.86380792e-01,  -3.89991507e-01,  -8.75978529e-01,\n",
       "         1.34681942e+00,   7.92578398e-02,  -1.57529374e-01,\n",
       "         1.49738969e+00,   0.00000000e+00,   0.00000000e+00,\n",
       "        -9.42940636e-01,  -8.34359938e-03,  -2.46715617e-01,\n",
       "        -1.98217744e-01,  -1.69217523e-01,  -1.57215880e+00,\n",
       "        -5.96250599e-01,  -5.55122368e-01,  -1.23769934e+00,\n",
       "        -1.17507047e+00,  -1.50908214e-01,  -5.67470447e-01,\n",
       "        -6.64124049e-01,   2.22446477e-01,   6.64754531e-01,\n",
       "         3.14647716e-01,   3.32999868e-01,  -3.05252187e-02,\n",
       "         1.61753751e-17,   8.27812403e-18,  -1.65404129e-03,\n",
       "         1.49872827e-03,   1.89254376e-03,  -1.99988822e-03,\n",
       "        -1.55295104e-03,  -1.65678761e-03,   1.59668559e-03,\n",
       "        -1.50963370e-03,  -3.93191378e-04,   1.82591460e-03,\n",
       "         1.25105947e-03,   1.49913502e-03,   1.56665028e-03,\n",
       "        -1.51939883e-03,  -1.49725734e-03,  -1.14872577e-03])"
      ]
     },
     "execution_count": 16,
     "metadata": {},
     "output_type": "execute_result"
    }
   ],
   "source": [
    "train[1]"
   ]
  },
  {
   "cell_type": "code",
   "execution_count": 17,
   "metadata": {
    "collapsed": true
   },
   "outputs": [],
   "source": [
    "test = np.concatenate((stest,stest_pca), axis=1)\n",
    "test = np.concatenate((test,stest_ica),axis=1)"
   ]
  },
  {
   "cell_type": "code",
   "execution_count": 18,
   "metadata": {},
   "outputs": [
    {
     "data": {
      "text/plain": [
       "(3706907, 48)"
      ]
     },
     "execution_count": 18,
     "metadata": {},
     "output_type": "execute_result"
    }
   ],
   "source": [
    "test.shape"
   ]
  },
  {
   "cell_type": "code",
   "execution_count": 19,
   "metadata": {},
   "outputs": [
    {
     "data": {
      "text/plain": [
       "(3706907, 16)"
      ]
     },
     "execution_count": 19,
     "metadata": {},
     "output_type": "execute_result"
    }
   ],
   "source": [
    "stest.shape"
   ]
  },
  {
   "cell_type": "code",
   "execution_count": 22,
   "metadata": {},
   "outputs": [
    {
     "data": {
      "text/plain": [
       "0"
      ]
     },
     "execution_count": 22,
     "metadata": {},
     "output_type": "execute_result"
    }
   ],
   "source": [
    "import gc\n",
    "#del strain_pca\n",
    "#del strain_ica\n",
    "#del stest_pca\n",
    "#del stest_ica\n",
    "gc.collect()"
   ]
  },
  {
   "cell_type": "code",
   "execution_count": 23,
   "metadata": {},
   "outputs": [
    {
     "data": {
      "text/plain": [
       "0"
      ]
     },
     "execution_count": 23,
     "metadata": {},
     "output_type": "execute_result"
    }
   ],
   "source": [
    "del strain\n",
    "del stest\n",
    "gc.collect()"
   ]
  },
  {
   "cell_type": "code",
   "execution_count": 24,
   "metadata": {},
   "outputs": [
    {
     "data": {
      "text/plain": [
       "array([ -1.19930848e+00,   9.80872386e-01,  -8.28422060e-01,\n",
       "        -7.75691490e-01,  -3.89991507e-01,  -8.75978529e-01,\n",
       "         4.64452304e-01,   1.81043761e+00,  -9.29652224e-01,\n",
       "         1.43952056e+00,   0.00000000e+00,   0.00000000e+00,\n",
       "         2.29530801e+00,  -1.07258527e-01,  -2.58757823e-01,\n",
       "        -2.64816553e-01,   1.42512018e-01,  -9.99060592e-01,\n",
       "         2.69147623e+00,  -7.31456398e-01,  -1.40069964e+00,\n",
       "        -8.36826659e-01,  -1.81743317e-01,  -9.47094845e-01,\n",
       "         4.67418278e-01,  -1.17548946e+00,  -1.31610732e+00,\n",
       "         8.03718564e-01,  -2.93510712e-01,   2.22560620e-02,\n",
       "         2.62174261e-17,   9.07860674e-17,  -2.32266922e-03,\n",
       "         2.38329760e-03,   1.95547853e-03,  -2.41322784e-03,\n",
       "        -2.28241093e-03,  -2.63457386e-03,   2.29889570e-03,\n",
       "        -2.16036861e-03,  -4.81166756e-03,   1.09363177e-03,\n",
       "         2.36002548e-03,   2.49228745e-03,   2.10024396e-03,\n",
       "        -2.19552939e-03,  -2.05846020e-03,  -4.39196426e-03])"
      ]
     },
     "execution_count": 24,
     "metadata": {},
     "output_type": "execute_result"
    }
   ],
   "source": [
    "test[5]"
   ]
  },
  {
   "cell_type": "code",
   "execution_count": 25,
   "metadata": {
    "collapsed": true
   },
   "outputs": [],
   "source": [
    "train_data = pd.DataFrame(data=train)\n",
    "test_data = pd.DataFrame(data=test)"
   ]
  },
  {
   "cell_type": "code",
   "execution_count": 26,
   "metadata": {},
   "outputs": [
    {
     "name": "stdout",
     "output_type": "stream",
     "text": [
      "<class 'pandas.core.frame.DataFrame'>\n",
      "RangeIndex: 12137810 entries, 0 to 12137809\n",
      "Data columns (total 48 columns):\n",
      "0     float64\n",
      "1     float64\n",
      "2     float64\n",
      "3     float64\n",
      "4     float64\n",
      "5     float64\n",
      "6     float64\n",
      "7     float64\n",
      "8     float64\n",
      "9     float64\n",
      "10    float64\n",
      "11    float64\n",
      "12    float64\n",
      "13    float64\n",
      "14    float64\n",
      "15    float64\n",
      "16    float64\n",
      "17    float64\n",
      "18    float64\n",
      "19    float64\n",
      "20    float64\n",
      "21    float64\n",
      "22    float64\n",
      "23    float64\n",
      "24    float64\n",
      "25    float64\n",
      "26    float64\n",
      "27    float64\n",
      "28    float64\n",
      "29    float64\n",
      "30    float64\n",
      "31    float64\n",
      "32    float64\n",
      "33    float64\n",
      "34    float64\n",
      "35    float64\n",
      "36    float64\n",
      "37    float64\n",
      "38    float64\n",
      "39    float64\n",
      "40    float64\n",
      "41    float64\n",
      "42    float64\n",
      "43    float64\n",
      "44    float64\n",
      "45    float64\n",
      "46    float64\n",
      "47    float64\n",
      "dtypes: float64(48)\n",
      "memory usage: 4.3 GB\n"
     ]
    }
   ],
   "source": [
    "train_data.info()"
   ]
  },
  {
   "cell_type": "code",
   "execution_count": 27,
   "metadata": {},
   "outputs": [
    {
     "name": "stdout",
     "output_type": "stream",
     "text": [
      "<class 'pandas.core.frame.DataFrame'>\n",
      "RangeIndex: 3706907 entries, 0 to 3706906\n",
      "Data columns (total 48 columns):\n",
      "0     float64\n",
      "1     float64\n",
      "2     float64\n",
      "3     float64\n",
      "4     float64\n",
      "5     float64\n",
      "6     float64\n",
      "7     float64\n",
      "8     float64\n",
      "9     float64\n",
      "10    float64\n",
      "11    float64\n",
      "12    float64\n",
      "13    float64\n",
      "14    float64\n",
      "15    float64\n",
      "16    float64\n",
      "17    float64\n",
      "18    float64\n",
      "19    float64\n",
      "20    float64\n",
      "21    float64\n",
      "22    float64\n",
      "23    float64\n",
      "24    float64\n",
      "25    float64\n",
      "26    float64\n",
      "27    float64\n",
      "28    float64\n",
      "29    float64\n",
      "30    float64\n",
      "31    float64\n",
      "32    float64\n",
      "33    float64\n",
      "34    float64\n",
      "35    float64\n",
      "36    float64\n",
      "37    float64\n",
      "38    float64\n",
      "39    float64\n",
      "40    float64\n",
      "41    float64\n",
      "42    float64\n",
      "43    float64\n",
      "44    float64\n",
      "45    float64\n",
      "46    float64\n",
      "47    float64\n",
      "dtypes: float64(48)\n",
      "memory usage: 1.3 GB\n"
     ]
    }
   ],
   "source": [
    "test_data.info()"
   ]
  },
  {
   "cell_type": "code",
   "execution_count": 28,
   "metadata": {
    "collapsed": true
   },
   "outputs": [],
   "source": [
    "train_data.to_csv(\"PCA_ICA_TRAIN.csv\",index=False)\n",
    "test_data.to_csv(\"PCA_ICA_TEST.csv\",index=False)"
   ]
  },
  {
   "cell_type": "code",
   "execution_count": null,
   "metadata": {},
   "outputs": [],
   "source": [
    "train_ori = pd.read_csv('DATASET/train.csv')\n",
    "test_ori = pd.read_csv('DATASET/test.csv')\n",
    "from sklearn.model_selection import train_test_split\n",
    "X_train, X_valid, Y_train, Y_valid = train_test_split(train, train_ori.click, test_size = 0.4, random_state=2017)"
   ]
  },
  {
   "cell_type": "code",
   "execution_count": null,
   "metadata": {
    "collapsed": true
   },
   "outputs": [],
   "source": [
    "print (X_train.shape)\n",
    "print (X_valid.shape)\n",
    "print (Y_train.shape)\n",
    "print (Y_valid.shape)"
   ]
  },
  {
   "cell_type": "code",
   "execution_count": null,
   "metadata": {
    "collapsed": true
   },
   "outputs": [],
   "source": []
  }
 ],
 "metadata": {
  "kernelspec": {
   "display_name": "Python 2",
   "language": "python",
   "name": "python2"
  },
  "language_info": {
   "codemirror_mode": {
    "name": "ipython",
    "version": 2
   },
   "file_extension": ".py",
   "mimetype": "text/x-python",
   "name": "python",
   "nbconvert_exporter": "python",
   "pygments_lexer": "ipython2",
   "version": "2.7.13"
  }
 },
 "nbformat": 4,
 "nbformat_minor": 2
}
